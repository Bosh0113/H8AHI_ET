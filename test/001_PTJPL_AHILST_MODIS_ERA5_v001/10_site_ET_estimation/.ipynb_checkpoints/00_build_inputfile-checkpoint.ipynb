{
 "cells": [
  {
   "cell_type": "code",
   "execution_count": 4,
   "id": "d8ae12da",
   "metadata": {},
   "outputs": [],
   "source": [
    "import os\n",
    "import numpy"
   ]
  },
  {
   "cell_type": "code",
   "execution_count": 7,
   "id": "11a4bf3f",
   "metadata": {},
   "outputs": [],
   "source": [
    "def read_site_csv(csv_filename):\n",
    "    csv_data = numpy.genfromtxt(csv_filename, delimiter=',', dtype=str)\n",
    "    csv_v = csv_data[:, 1]\n",
    "    csv_v = csv_v.astype(float)\n",
    "    return csv_data[:, 0], csv_v"
   ]
  },
  {
   "cell_type": "code",
   "execution_count": 8,
   "id": "1186ab26",
   "metadata": {},
   "outputs": [],
   "source": [
    "OUTPUT_FOLDER = '/disk2/workspace/20231118'\n",
    "\n",
    "site_names = ['TKY', 'CRK', 'GCK', 'GDK']\n",
    "\n",
    "inputfile_title = ['Time', 'NETRAD', 'TA', 'RH', 'NDVI_day_mean']\n",
    "# demo: 2018/7/19 3:00...(W/m2)...(K)...(%)...\n",
    "\n",
    "for i, site_name in enumerate(site_names):\n",
    "    Rnet_SITE_CSV = '/disk2/Data/FluxSite4ET/' + site_name + '_Rnet.csv'\n",
    "    r_net_timelist, r_net_10min = read_site_csv(Rnet_SITE_CSV)\n",
    "    Ta_SITE_CSV = '/disk2/Data/FluxSite4ET/' + site_name + '_AMATERASS_Ta.csv'\n",
    "    ta_timelist, ta_10min = read_site_csv(Ta_SITE_CSV)\n",
    "    RH_SITE_CSV = '/disk2/Data/FluxSite4ET/' + site_name + '_AMATERASS_RH.csv'\n",
    "    rh_timelist, rh_10min = read_site_csv(RH_SITE_CSV)\n",
    "    NDVI_SITE_CSV = '/disk2/Data/FluxSite4ET/' + site_name + '_NDVI_10min.csv'\n",
    "    ndvi_timelist, ndvi_10min = read_site_csv(NDVI_SITE_CSV)\n",
    "    \n",
    "    input_timelist = numpy.copy(r_net_timelist)\n",
    "    \n",
    "    input_csv_ = numpy.column_stack((numpy.insert(input_timelist, 0, inputfile_title[0]),\n",
    "                                     numpy.insert(r_net_10min.astype(str), 0, inputfile_title[1]),\n",
    "                                     numpy.insert(ta_10min.astype(str), 0, inputfile_title[2]),\n",
    "                                     numpy.insert(rh_10min.astype(str), 0, inputfile_title[3]),\n",
    "                                     numpy.insert(ndvi_10min.astype(str), 0, inputfile_title[4])))\n",
    "    numpy.savetxt(os.path.join(OUTPUT_FOLDER, site_name+'_PL-JPL_inputs'+'.csv'), input_csv_, delimiter=\",\", fmt='%s')"
   ]
  }
 ],
 "metadata": {
  "kernelspec": {
   "display_name": "Python 3",
   "language": "python",
   "name": "python3"
  },
  "language_info": {
   "codemirror_mode": {
    "name": "ipython",
    "version": 3
   },
   "file_extension": ".py",
   "mimetype": "text/x-python",
   "name": "python",
   "nbconvert_exporter": "python",
   "pygments_lexer": "ipython3",
   "version": "3.6.8"
  }
 },
 "nbformat": 4,
 "nbformat_minor": 5
}
