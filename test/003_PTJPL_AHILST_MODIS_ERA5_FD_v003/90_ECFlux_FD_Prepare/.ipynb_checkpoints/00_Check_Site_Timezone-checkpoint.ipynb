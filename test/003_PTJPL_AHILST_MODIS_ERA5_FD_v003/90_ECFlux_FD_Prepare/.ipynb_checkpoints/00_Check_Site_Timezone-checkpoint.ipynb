{
 "cells": [
  {
   "cell_type": "code",
   "execution_count": 14,
   "id": "2a775ffd",
   "metadata": {},
   "outputs": [],
   "source": [
    "import os\n",
    "from datetime import datetime\n",
    "from timezonefinder import TimezoneFinder\n",
    "import pytz"
   ]
  },
  {
   "cell_type": "code",
   "execution_count": 15,
   "id": "4bbe1083",
   "metadata": {},
   "outputs": [],
   "source": [
    "site_infos = [['CLC', 44.59666667, 123.4702778],\\\n",
    "              ['JRC', 31.80683056, 119.2172639],\\\n",
    "              ['PDC', 26.6, 106.3166667],\\\n",
    "              ['PJC', 40.94138889, 121.9602778],\\\n",
    "              ['PJW', 40.932725, 121.9645917],\\\n",
    "              ['HZF', 51.78111111, 121.0177778],\\\n",
    "              ['ZAG', 32.8, 102.55],\\\n",
    "              ['DBB', 41.64397222, 110.3314722],\\\n",
    "              ['HBG', 37.61666667, 101.3166667],\\\n",
    "              ['HBS', 37.61666667, 101.3166667],\\\n",
    "              ['MPM', 22.4982, 114.0292],\\\n",
    "              ['BBY', 43.323, 141.8107],\\\n",
    "              ['TKY', 36.14616667, 137.4231111],\\\n",
    "              ['CRK', 38.20138889, 127.2505556],\\\n",
    "              ['GCK', 37.74833333, 127.1622222],\\\n",
    "              ['GDK', 37.74888889, 127.1491667],\\\n",
    "              ['SIP', 0.395204167, 102.7645506],\\\n",
    "              ['SDP', 0.699491389, 102.793305],\\\n",
    "              ['ASM', -22.2828, 133.2493],\\\n",
    "              ['CPW', -33.6152, 150.7236],\\\n",
    "              ['WAR', -43.095, 146.6545]]"
   ]
  },
  {
   "cell_type": "code",
   "execution_count": 18,
   "id": "e05d4b66",
   "metadata": {},
   "outputs": [
    {
     "name": "stdout",
     "output_type": "stream",
     "text": [
      "CLC\n",
      "+08:00\n",
      "JRC\n",
      "+08:00\n",
      "PDC\n",
      "+08:00\n",
      "PJC\n",
      "+08:00\n",
      "PJW\n",
      "+08:00\n",
      "HZF\n",
      "+08:00\n",
      "ZAG\n",
      "+08:00\n",
      "DBB\n",
      "+08:00\n",
      "HBG\n",
      "+08:00\n",
      "HBS\n",
      "+08:00\n",
      "MPM\n",
      "+08:00\n",
      "BBY\n",
      "+09:00\n",
      "TKY\n",
      "+09:00\n",
      "CRK\n",
      "+09:00\n",
      "GCK\n",
      "+09:00\n",
      "GDK\n",
      "+09:00\n",
      "SIP\n",
      "+07:00\n",
      "SDP\n",
      "+07:00\n",
      "ASM\n",
      "+09:30\n",
      "CPW\n",
      "+11:00\n",
      "WAR\n",
      "+11:00\n"
     ]
    }
   ],
   "source": [
    "for site_info in site_infos:\n",
    "    site_name = site_info[0]\n",
    "    latitude = site_info[1]\n",
    "    longitude = site_info[2]\n",
    "    \n",
    "    tf = TimezoneFinder(in_memory=True)\n",
    "    local_time_zone = tf.timezone_at(lat=latitude, lng=longitude)\n",
    "    \n",
    "    tz = pytz.timezone(local_time_zone)\n",
    "    now = str(datetime.now(tz))\n",
    "    \n",
    "    print(site_name, end=\": \")\n",
    "    print(now[-6:])"
   ]
  }
 ],
 "metadata": {
  "kernelspec": {
   "display_name": "Python 3",
   "language": "python",
   "name": "python3"
  },
  "language_info": {
   "codemirror_mode": {
    "name": "ipython",
    "version": 3
   },
   "file_extension": ".py",
   "mimetype": "text/x-python",
   "name": "python",
   "nbconvert_exporter": "python",
   "pygments_lexer": "ipython3",
   "version": "3.6.8"
  }
 },
 "nbformat": 4,
 "nbformat_minor": 5
}
