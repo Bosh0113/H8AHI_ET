{
 "cells": [
  {
   "cell_type": "markdown",
   "id": "48e4d710",
   "metadata": {},
   "source": [
    "## !!需要在.cdsapirc文件里配置登录信息"
   ]
  },
  {
   "cell_type": "markdown",
   "id": "ef8b04b0",
   "metadata": {},
   "source": [
    "https://cds.climate.copernicus.eu/cdsapp#!/dataset/reanalysis-era5-land?tab=overview"
   ]
  },
  {
   "cell_type": "markdown",
   "id": "b7190422",
   "metadata": {},
   "source": [
    "https://cds.climate.copernicus.eu/api-how-to#install-the-cds-api-client"
   ]
  },
  {
   "cell_type": "markdown",
   "id": "e55d9e4f",
   "metadata": {},
   "source": [
    "Total evaporation (m of water equivalent)\n",
    "\n",
    "Accumulated amount of water that has evaporated from the Earth's surface, including a simplified representation of transpiration (from vegetation), into vapour in the air above. This variable is accumulated from the beginning of the forecast to the end of the forecast step. The ECMWF Integrated Forecasting System convention is that downward fluxes are positive. Therefore, negative values indicate evaporation and positive values indicate condensation."
   ]
  },
  {
   "cell_type": "code",
   "execution_count": null,
   "id": "934d3b4c",
   "metadata": {},
   "outputs": [],
   "source": [
    "import cdsapi\n",
    "import os\n",
    "from datetime import datetime, timedelta\n",
    "from dateutil.relativedelta import relativedelta\n",
    "\n",
    "c = cdsapi.Client()"
   ]
  },
  {
   "cell_type": "code",
   "execution_count": null,
   "id": "55a37d21",
   "metadata": {},
   "outputs": [],
   "source": [
    "DATA_FOLDER = '/data01/people/beichen/data_fd_et/ERA5_Rsd'"
   ]
  },
  {
   "cell_type": "code",
   "execution_count": null,
   "id": "d6aacc43",
   "metadata": {},
   "outputs": [],
   "source": [
    "def ERA5_download(year_str, month_str, day_str_list, storage_path):\n",
    "    try:\n",
    "        c.retrieve(\n",
    "            'reanalysis-era5-land',\n",
    "            {\n",
    "                'variable': [\n",
    "                    'surface_solar_radiation_downwards',\n",
    "                ],\n",
    "                'year': year_str,\n",
    "                'month': month_str,\n",
    "                'day': day_str_list,\n",
    "                'time': [\n",
    "                    '00:00', '01:00', '02:00',\n",
    "                    '03:00', '04:00', '05:00',\n",
    "                    '06:00', '07:00', '08:00',\n",
    "                    '09:00', '10:00', '11:00',\n",
    "                    '12:00', '13:00', '14:00',\n",
    "                    '15:00', '16:00', '17:00',\n",
    "                    '18:00', '19:00', '20:00',\n",
    "                    '21:00', '22:00', '23:00',\n",
    "                ],\n",
    "                'area': [\n",
    "                    60, 85, -60, 180,\n",
    "                ],\n",
    "                'format': 'grib',\n",
    "            },\n",
    "            storage_path)\n",
    "    except Exception as e:\n",
    "        print(e)"
   ]
  },
  {
   "cell_type": "code",
   "execution_count": null,
   "id": "bf1869d9",
   "metadata": {},
   "outputs": [],
   "source": [
    "month_days_template = [\n",
    "    '01', '02', '03',\n",
    "    '04', '05', '06',\n",
    "    '07', '08', '09',\n",
    "    '10', '11', '12',\n",
    "    '13', '14', '15',\n",
    "    '16', '17', '18',\n",
    "    '19', '20', '21',\n",
    "    '22', '23', '24',\n",
    "    '25', '26', '27',\n",
    "    '28', '29', '30',\n",
    "    '31',\n",
    "]\n",
    "\n",
    "date_start = '2018-01-01T00:00:00Z'\n",
    "date_end = '2019-12-31T23:59:59Z'\n",
    "date_s = datetime.strptime(date_start, \"%Y-%m-%dT%H:%M:%SZ\")\n",
    "date_month_offset = relativedelta(months=1)\n",
    "date_e = datetime.strptime(date_end, \"%Y-%m-%dT%H:%M:%SZ\")\n",
    "date_dl = date_s\n",
    "while date_dl <= date_e:\n",
    "    date_t = date_dl + date_month_offset\n",
    "    days_month_date = date_t - date_dl\n",
    "    days_list = month_days_template[:days_month_date.days]\n",
    "    date_ym_str = date_dl.strftime(\"%Y_%m\")\n",
    "    year_str = date_ym_str.split('_')[0]\n",
    "    month_str = date_ym_str.split('_')[1]\n",
    "    file_path = date_ym_str + '.grib'\n",
    "    print(year_str, month_str)\n",
    "    ERA5_download(year_str, month_str, days_list, os.path.join(DATA_FOLDER, file_path))\n",
    "    date_dl = date_t"
   ]
  }
 ],
 "metadata": {
  "kernelspec": {
   "display_name": "Python 3",
   "language": "python",
   "name": "python3"
  },
  "language_info": {
   "codemirror_mode": {
    "name": "ipython",
    "version": 3
   },
   "file_extension": ".py",
   "mimetype": "text/x-python",
   "name": "python",
   "nbconvert_exporter": "python",
   "pygments_lexer": "ipython3",
   "version": "3.6.8"
  }
 },
 "nbformat": 4,
 "nbformat_minor": 5
}
