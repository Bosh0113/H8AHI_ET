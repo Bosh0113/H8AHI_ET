{
 "cells": [
  {
   "cell_type": "code",
   "execution_count": 7,
   "id": "48100eec",
   "metadata": {},
   "outputs": [],
   "source": [
    "import numpy\n",
    "import os\n",
    "import xarray\n",
    "from datetime import datetime, timedelta"
   ]
  },
  {
   "cell_type": "code",
   "execution_count": 8,
   "id": "a39d51de",
   "metadata": {},
   "outputs": [],
   "source": [
    "MOD09GA_REFLECTANCE_FLODER = '/disk2/Data/MOD09GA_b1b2_JP'"
   ]
  },
  {
   "cell_type": "code",
   "execution_count": 9,
   "id": "c207abf5",
   "metadata": {},
   "outputs": [],
   "source": [
    "def read_mod09ga_site(modis_mod09_tif, lat_site, lon_site):\n",
    "    modis_ds = xarray.open_rasterio(modis_mod09_tif)[0]\n",
    "    jp_ds = modis_ds.interp(x=[lon_site], y=[lat_site], method=\"nearest\", kwargs={\"fill_value\": \"extrapolate\"}) # linear\n",
    "    r_dn = numpy.array(jp_ds.values)[0][0]\n",
    "    if r_dn == -28672:\n",
    "        return numpy.NaN\n",
    "    else:\n",
    "        data_v = r_dn*0.0001\n",
    "        return data_v"
   ]
  },
  {
   "cell_type": "code",
   "execution_count": 10,
   "id": "48fbf2a8",
   "metadata": {},
   "outputs": [],
   "source": [
    "tky_site_loc = (36.146, 137.423) # lat, lon\n",
    "crk_site_loc = (38.201, 127.251) # lat, lon\n",
    "gck_site_loc = (37.748, 127.162) # lat, lon\n",
    "gdk_site_loc = (37.749, 127.149) # lat, lon\n",
    "site_names = ['TKY','CRK', 'GCK', 'GDK']\n",
    "site_locs = [tky_site_loc, crk_site_loc, gck_site_loc, gdk_site_loc]"
   ]
  },
  {
   "cell_type": "code",
   "execution_count": 11,
   "id": "179f22ef",
   "metadata": {},
   "outputs": [],
   "source": [
    "years = ['2018', '2019']\n",
    "year_days = [(3-len(str(day_n)))*'0' + str(day_n) for day_n in numpy.arange(1, 366, 1)]\n",
    "\n",
    "for current_site_idx in range(len(site_names)):\n",
    "    current_site_loc = site_locs[current_site_idx]\n",
    "    \n",
    "    site_record = []\n",
    "    for year_str in years:\n",
    "        year_first_day_date = datetime.strptime(year_str + '-01-01T00:00:00Z', \"%Y-%m-%dT%H:%M:%SZ\")\n",
    "        for day_idx in range(len(year_days)):\n",
    "            day_str = year_days[day_idx]\n",
    "            data_filename1 = os.path.join(MOD09GA_REFLECTANCE_FLODER, year_str, 'MOD09GA.061_sur_refl_b01_1_doy' + year_str + day_str + '_aid0001.tif')\n",
    "            data_filename2 = os.path.join(MOD09GA_REFLECTANCE_FLODER, year_str, 'MOD09GA.061_sur_refl_b02_1_doy' + year_str + day_str + '_aid0001.tif')\n",
    "\n",
    "            this_day_date = year_first_day_date + timedelta(days=day_idx)\n",
    "            this_day_time = this_day_date.strftime(\"%Y-%m-%dT%H:%M:%SZ\")\n",
    "\n",
    "            day_site_v1 = read_mod09ga_site(data_filename1, current_site_loc[0], current_site_loc[1])\n",
    "            day_site_v2 = read_mod09ga_site(data_filename2, current_site_loc[0], current_site_loc[1])\n",
    "            record_item = [this_day_time, str(day_site_v1), str(day_site_v2)]\n",
    "\n",
    "            site_record.append(record_item)\n",
    "    modis_record = numpy.array(site_record)\n",
    "    numpy.savetxt(os.path.join(MOD09GA_REFLECTANCE_FLODER, site_names[current_site_idx]+'_MOD09GA_ReflectanceB1B2'+'.csv'), modis_record, delimiter=\",\", fmt='%s')"
   ]
  }
 ],
 "metadata": {
  "kernelspec": {
   "display_name": "Python 3",
   "language": "python",
   "name": "python3"
  },
  "language_info": {
   "codemirror_mode": {
    "name": "ipython",
    "version": 3
   },
   "file_extension": ".py",
   "mimetype": "text/x-python",
   "name": "python",
   "nbconvert_exporter": "python",
   "pygments_lexer": "ipython3",
   "version": "3.6.8"
  }
 },
 "nbformat": 4,
 "nbformat_minor": 5
}
