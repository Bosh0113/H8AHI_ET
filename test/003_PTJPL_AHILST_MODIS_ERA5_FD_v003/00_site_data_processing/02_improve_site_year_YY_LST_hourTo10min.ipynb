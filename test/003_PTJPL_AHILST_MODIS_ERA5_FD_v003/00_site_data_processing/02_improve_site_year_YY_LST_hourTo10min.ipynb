{
 "cells": [
  {
   "cell_type": "code",
   "execution_count": 1,
   "id": "7ccaee24",
   "metadata": {},
   "outputs": [],
   "source": [
    "import os\n",
    "import numpy\n",
    "from scipy.interpolate import interp1d\n",
    "import matplotlib.pyplot as plt"
   ]
  },
  {
   "cell_type": "code",
   "execution_count": 2,
   "id": "c2f817b0",
   "metadata": {},
   "outputs": [],
   "source": [
    "def read_site_data(csv_filename):\n",
    "    csv_data = numpy.genfromtxt(csv_filename, delimiter=',', dtype=str)\n",
    "    data_10min = csv_data[:, 1]\n",
    "    data_10min = data_10min.astype(float)\n",
    "    \n",
    "    data_hour = data_10min[::6]\n",
    "    data_10min_rep = numpy.repeat(data_hour, 6)\n",
    "    \n",
    "    csv_data[:, 1] = data_10min_rep\n",
    "    return csv_data"
   ]
  },
  {
   "cell_type": "code",
   "execution_count": 3,
   "id": "cb836581",
   "metadata": {},
   "outputs": [],
   "source": [
    "site_infos = [# site, lat, lon, UTC+\n",
    "    [\"CLC\", 44.59666667, 123.4702778, 8],\n",
    "    [\"JRC\", 31.80683056, 119.2172639, 8],\n",
    "    [\"PDC\", 26.6, 106.3166667, 8],\n",
    "    [\"PJC\", 40.94138889, 121.9602778, 8],\n",
    "    [\"HZF\", 51.78111111, 121.0177778, 8],\n",
    "    [\"ZAG\", 32.8, 102.55, 8],\n",
    "    [\"DBB\", 41.64397222, 110.3314722, 8],\n",
    "    [\"HBG\", 37.61666667, 101.3166667, 8],\n",
    "    [\"MPM\", 22.4982, 114.0292, 8],\n",
    "    [\"BBY\", 43.323, 141.8107, 9],\n",
    "    [\"TKY\", 36.14616667, 137.4231111, 9],\n",
    "    [\"CRK\", 38.20138889, 127.2505556, 9],\n",
    "    [\"GCK\", 37.74833333, 127.1622222, 9],\n",
    "    [\"GDK\", 37.74888889, 127.1491667, 9],\n",
    "    [\"SIP\", 0.395204167, 102.7645506, 7],\n",
    "    [\"SDP\", 0.699491389, 102.793305, 7],\n",
    "    [\"ASM\", -22.2828, 133.2493, 9],\n",
    "    [\"CPW\", -33.6152, 150.7236, 11],\n",
    "    [\"WAR\", -43.095, 146.6545, 11]\n",
    "]"
   ]
  },
  {
   "cell_type": "code",
   "execution_count": 4,
   "id": "5f25147f",
   "metadata": {},
   "outputs": [],
   "source": [
    "WORKSPACE_FOLDER = os.path.join(os.path.abspath('..'), 'processing_record')\n",
    "if not os.path.exists(WORKSPACE_FOLDER):\n",
    "    os.makedirs(WORKSPACE_FOLDER)\n",
    "for site_info in site_infos:\n",
    "    site_name = site_info[0]\n",
    "    Rsd_SITE_CSV = os.path.join(WORKSPACE_FOLDER, 'original', site_name + '_AHI_LST.csv')\n",
    "    csv_data_imp = read_site_data(Rsd_SITE_CSV)\n",
    "    numpy.savetxt(os.path.join(WORKSPACE_FOLDER, site_name + '_AHI_LST.csv'), csv_data_imp, delimiter=\",\", fmt='%s')"
   ]
  }
 ],
 "metadata": {
  "kernelspec": {
   "display_name": "Python 3 (ipykernel)",
   "language": "python",
   "name": "python3"
  },
  "language_info": {
   "codemirror_mode": {
    "name": "ipython",
    "version": 3
   },
   "file_extension": ".py",
   "mimetype": "text/x-python",
   "name": "python",
   "nbconvert_exporter": "python",
   "pygments_lexer": "ipython3",
   "version": "3.9.12"
  }
 },
 "nbformat": 4,
 "nbformat_minor": 5
}
