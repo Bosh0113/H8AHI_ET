{
 "cells": [
  {
   "cell_type": "markdown",
   "id": "ec8a835d",
   "metadata": {},
   "source": [
    "## Check MOD05 data"
   ]
  },
  {
   "cell_type": "code",
   "execution_count": null,
   "id": "2148f77f",
   "metadata": {},
   "outputs": [],
   "source": [
    "import os\n",
    "from pyhdf.SD import SD, SDC"
   ]
  },
  {
   "cell_type": "code",
   "execution_count": null,
   "id": "45c64056",
   "metadata": {},
   "outputs": [],
   "source": [
    "MOD05_L2_HDF_FOLDER = '/disk2/Data/MOD05_L2'"
   ]
  },
  {
   "cell_type": "code",
   "execution_count": null,
   "id": "9a3acdfb",
   "metadata": {},
   "outputs": [],
   "source": [
    "years = [2018, 2019]\n",
    "for year in years:\n",
    "    mod05_hdf_folder = os.path.join(MOD05_L2_HDF_FOLDER, str(year))\n",
    "    mod05_year_filelist = os.listdir(mod05_hdf_folder)\n",
    "    \n",
    "    for mod05_year_file in mod05_year_filelist:\n",
    "        mod05_year_filename = os.path.join(mod05_hdf_folder, mod05_year_file)\n",
    "        try:\n",
    "            hdf_file = SD(mod05_year_filename, SDC.READ)\n",
    "            hdf_file.end()\n",
    "        except Exception as e:\n",
    "            print(mod05_year_filename)\n",
    "            os.remove(mod05_year_filename)"
   ]
  },
  {
   "cell_type": "code",
   "execution_count": null,
   "id": "cf2818df",
   "metadata": {},
   "outputs": [],
   "source": []
  }
 ],
 "metadata": {
  "kernelspec": {
   "display_name": "Python 3",
   "language": "python",
   "name": "python3"
  },
  "language_info": {
   "codemirror_mode": {
    "name": "ipython",
    "version": 3
   },
   "file_extension": ".py",
   "mimetype": "text/x-python",
   "name": "python",
   "nbconvert_exporter": "python",
   "pygments_lexer": "ipython3",
   "version": "3.6.8"
  }
 },
 "nbformat": 4,
 "nbformat_minor": 5
}
