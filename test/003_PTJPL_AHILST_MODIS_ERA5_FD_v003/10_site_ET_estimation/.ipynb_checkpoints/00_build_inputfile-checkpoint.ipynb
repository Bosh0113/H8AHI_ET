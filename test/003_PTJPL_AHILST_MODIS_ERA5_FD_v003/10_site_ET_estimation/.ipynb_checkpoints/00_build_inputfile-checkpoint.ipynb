{
 "cells": [
  {
   "cell_type": "code",
   "execution_count": 4,
   "id": "d8ae12da",
   "metadata": {},
   "outputs": [],
   "source": [
    "import os\n",
    "import numpy"
   ]
  },
  {
   "cell_type": "code",
   "execution_count": 5,
   "id": "11a4bf3f",
   "metadata": {},
   "outputs": [],
   "source": [
    "def read_site_csv(csv_filename):\n",
    "    csv_data = numpy.genfromtxt(csv_filename, delimiter=',', dtype=str)\n",
    "    csv_v = csv_data[:, 1]\n",
    "    csv_v = csv_v.astype(float)\n",
    "    return csv_data[:, 0], csv_v"
   ]
  },
  {
   "cell_type": "code",
   "execution_count": null,
   "id": "630ed8ca",
   "metadata": {},
   "outputs": [],
   "source": [
    "INPUT_FOLDER = '/disk2/workspace/20240323/processing_record'\n",
    "OUTPUT_FOLDER = '/disk2/workspace/20240325'"
   ]
  },
  {
   "cell_type": "code",
   "execution_count": null,
   "id": "45581868",
   "metadata": {},
   "outputs": [],
   "source": [
    "site_infos = [# site, lat, lon, UTC+\n",
    "    [\"CLC\", 44.59666667, 123.4702778, 8],\n",
    "    [\"JRC\", 31.80683056, 119.2172639, 8],\n",
    "    [\"PDC\", 26.6, 106.3166667, 8],\n",
    "    [\"PJC\", 40.94138889, 121.9602778, 8],\n",
    "    [\"HZF\", 51.78111111, 121.0177778, 8],\n",
    "    [\"ZAG\", 32.8, 102.55, 8],\n",
    "    [\"DBB\", 41.64397222, 110.3314722, 8],\n",
    "    [\"HBG\", 37.61666667, 101.3166667, 8],\n",
    "#     [\"MPM\", 22.4982, 114.0292, 8],\n",
    "    [\"BBY\", 43.323, 141.8107, 9],\n",
    "    [\"TKY\", 36.14616667, 137.4231111, 9],\n",
    "    [\"CRK\", 38.20138889, 127.2505556, 9],\n",
    "    [\"GCK\", 37.74833333, 127.1622222, 9],\n",
    "    [\"GDK\", 37.74888889, 127.1491667, 9],\n",
    "    [\"SIP\", 0.395204167, 102.7645506, 7],\n",
    "    [\"SDP\", 0.699491389, 102.793305, 7],\n",
    "    [\"ASM\", -22.2828, 133.2493, 9],\n",
    "    [\"CPW\", -33.6152, 150.7236, 11],\n",
    "    [\"WAR\", -43.095, 146.6545, 11]\n",
    "]"
   ]
  },
  {
   "cell_type": "code",
   "execution_count": 6,
   "id": "1186ab26",
   "metadata": {},
   "outputs": [],
   "source": [
    "\n",
    "\n",
    "site_names = ['TKY', 'CRK', 'GCK', 'GDK']\n",
    "\n",
    "inputfile_title = ['Time', 'NETRAD', 'TA', 'RH', 'NDVI']\n",
    "# demo: 2018/7/19 3:00...(W/m2)...(K)...(K)...\n",
    "\n",
    "for i, site_info in enumerate(site_infos):\n",
    "    site_name = site_info[0]\n",
    "    Rnet_SITE_CSV = os.path.join(INPUT_FOLDER, site_name + '_Rnet.csv')\n",
    "    r_net_timelist, r_net_10min = read_site_csv(Rnet_SITE_CSV)\n",
    "    Ta_SITE_CSV = os.path.join(INPUT_FOLDER, site_name + '_ERA5_Ta.csv')\n",
    "    ta_timelist, ta_10min = read_site_csv(Ta_SITE_CSV)\n",
    "    RH_SITE_CSV = os.path.join(INPUT_FOLDER, site_name + '_ERA5_Td.csv')\n",
    "    rh_timelist, rh_10min = read_site_csv(RH_SITE_CSV)\n",
    "    NDVI_SITE_CSV = os.path.join(INPUT_FOLDER, site_name + '_MOD13A2_NDVI.csv')\n",
    "    ndvi_timelist, ndvi_10min = read_site_csv(NDVI_SITE_CSV)\n",
    "    \n",
    "    input_timelist = numpy.copy(r_net_timelist)\n",
    "    \n",
    "    input_csv_ = numpy.column_stack((numpy.insert(input_timelist, 0, inputfile_title[0]),\n",
    "                                     numpy.insert(r_net_10min.astype(str), 0, inputfile_title[1]),\n",
    "                                     numpy.insert(ta_10min.astype(str), 0, inputfile_title[2]),\n",
    "                                     numpy.insert(rh_10min.astype(str), 0, inputfile_title[3]),\n",
    "                                     numpy.insert(ndvi_10min.astype(str), 0, inputfile_title[4])))\n",
    "    numpy.savetxt(os.path.join(OUTPUT_FOLDER, site_name+'_PL-JPL_inputs'+'.csv'), input_csv_, delimiter=\",\", fmt='%s')"
   ]
  }
 ],
 "metadata": {
  "kernelspec": {
   "display_name": "Python 3",
   "language": "python",
   "name": "python3"
  },
  "language_info": {
   "codemirror_mode": {
    "name": "ipython",
    "version": 3
   },
   "file_extension": ".py",
   "mimetype": "text/x-python",
   "name": "python",
   "nbconvert_exporter": "python",
   "pygments_lexer": "ipython3",
   "version": "3.6.8"
  }
 },
 "nbformat": 4,
 "nbformat_minor": 5
}
