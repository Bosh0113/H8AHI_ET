{
 "cells": [
  {
   "cell_type": "code",
   "execution_count": 1,
   "id": "7c1a1033",
   "metadata": {},
   "outputs": [],
   "source": [
    "import os\n",
    "import numpy\n",
    "import bz2"
   ]
  },
  {
   "cell_type": "code",
   "execution_count": 2,
   "id": "65ecd8f2",
   "metadata": {},
   "outputs": [],
   "source": [
    "AMATERASS_FOLDER = r'D:\\PhD_Workspace\\H8_ET\\231017\\JP_AMATERASS'"
   ]
  },
  {
   "cell_type": "code",
   "execution_count": 3,
   "id": "f2dfcd18",
   "metadata": {},
   "outputs": [],
   "source": [
    "pixel_size = 0.01 # 0.01°\n",
    "# TKY site\n",
    "site_loc = (36.146, 137.423) # lat, lon\n",
    "# AMATERASS extent\n",
    "amaterass_extent = (120.0, 150.0, 22.4, 47.6) # l_lon, r_lon, b_lat, t_lat"
   ]
  },
  {
   "cell_type": "code",
   "execution_count": 7,
   "id": "dc23dce1",
   "metadata": {},
   "outputs": [],
   "source": [
    "def read_site_data(file_time):\n",
    "    para_array = []\n",
    "    file_suffixes = ['.dwn.sw.flx.sfc.msm.1km.bin.bz2', '.rh.sfc.msm.1km.bin.bz2', '.tsfc.msm.1km.bin.bz2'] # SRd, RH, Ta\n",
    "    \n",
    "    for file_suffix in file_suffixes:\n",
    "        bz2_filename = AMATERASS_FOLDER + '/' + file_time + file_suffix\n",
    "        bz2_file = bz2.BZ2File(bz2_filename)\n",
    "        bz2_data = bz2_file.read()\n",
    "        jp_data = numpy.frombuffer(bz2_data, dtype='>f4').reshape(2521, 3001)\n",
    "        site_lat_idx = int((amaterass_extent[3] - site_loc[0])/pixel_size)\n",
    "        site_lon_idx = int((site_loc[1] - amaterass_extent[0])/pixel_size)\n",
    "        site_v = jp_data[site_lat_idx][site_lon_idx]\n",
    "        para_array.append(site_v)\n",
    "    \n",
    "    return para_array # SRd, RH, Ta"
   ]
  },
  {
   "cell_type": "code",
   "execution_count": 8,
   "id": "5b24b3d1",
   "metadata": {},
   "outputs": [
    {
     "data": {
      "text/plain": [
       "[0.0, 56.035255, 291.9023]"
      ]
     },
     "execution_count": 8,
     "metadata": {},
     "output_type": "execute_result"
    }
   ],
   "source": [
    "read_site_data('201807181800')"
   ]
  },
  {
   "cell_type": "code",
   "execution_count": 17,
   "id": "ee86f22a",
   "metadata": {},
   "outputs": [
    {
     "data": {
      "text/plain": [
       "81.52691"
      ]
     },
     "execution_count": 17,
     "metadata": {},
     "output_type": "execute_result"
    }
   ],
   "source": []
  }
 ],
 "metadata": {
  "kernelspec": {
   "display_name": "Python 3 (ipykernel)",
   "language": "python",
   "name": "python3"
  },
  "language_info": {
   "codemirror_mode": {
    "name": "ipython",
    "version": 3
   },
   "file_extension": ".py",
   "mimetype": "text/x-python",
   "name": "python",
   "nbconvert_exporter": "python",
   "pygments_lexer": "ipython3",
   "version": "3.10.9"
  }
 },
 "nbformat": 4,
 "nbformat_minor": 5
}
