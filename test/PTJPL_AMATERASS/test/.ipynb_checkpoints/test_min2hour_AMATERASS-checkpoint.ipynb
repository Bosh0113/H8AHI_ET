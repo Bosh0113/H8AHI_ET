{
 "cells": [
  {
   "cell_type": "code",
   "execution_count": 1,
   "id": "eb82ee72",
   "metadata": {},
   "outputs": [],
   "source": [
    "import numpy"
   ]
  },
  {
   "cell_type": "code",
   "execution_count": 2,
   "id": "ad066a35",
   "metadata": {},
   "outputs": [],
   "source": [
    "min_data_csv = r'C:\\GitWork\\H8AHI_ET\\test\\PTJPL_AMATERASS\\AMATERASS_TKY_nodata.csv'"
   ]
  },
  {
   "cell_type": "code",
   "execution_count": 3,
   "id": "5c9ec9a3",
   "metadata": {},
   "outputs": [],
   "source": [
    "min_data = numpy.loadtxt(min_data_csv, delimiter=\",\", dtype=str) # TIME, SRd, RH, Ta"
   ]
  },
  {
   "cell_type": "code",
   "execution_count": 4,
   "id": "df16445f",
   "metadata": {},
   "outputs": [],
   "source": [
    "NETRAD_day = min_data[:,1].astype(float).mean()\n",
    "TA_day_mean = min_data[:,3].astype(float).mean()\n",
    "NDVI_day_mean = 0.9"
   ]
  },
  {
   "cell_type": "code",
   "execution_count": 11,
   "id": "0c46c6ca",
   "metadata": {},
   "outputs": [
    {
     "name": "stdout",
     "output_type": "stream",
     "text": [
      "10\n",
      "20\n",
      "30\n",
      "40\n",
      "50\n",
      "10\n",
      "20\n",
      "30\n",
      "40\n",
      "50\n",
      "10\n",
      "20\n",
      "30\n",
      "40\n",
      "50\n",
      "10\n",
      "20\n",
      "30\n",
      "40\n",
      "50\n",
      "10\n",
      "20\n",
      "30\n",
      "40\n",
      "50\n",
      "10\n",
      "20\n",
      "30\n",
      "40\n",
      "50\n",
      "10\n",
      "20\n",
      "30\n",
      "40\n",
      "50\n",
      "10\n",
      "20\n",
      "30\n",
      "40\n",
      "50\n",
      "10\n",
      "20\n",
      "30\n",
      "50\n",
      "10\n",
      "20\n",
      "30\n",
      "40\n",
      "50\n",
      "10\n",
      "20\n",
      "30\n",
      "40\n",
      "50\n",
      "10\n",
      "20\n",
      "30\n",
      "40\n",
      "50\n",
      "10\n",
      "20\n",
      "30\n",
      "40\n",
      "50\n",
      "10\n",
      "20\n",
      "30\n",
      "40\n",
      "50\n",
      "10\n",
      "20\n",
      "30\n",
      "40\n",
      "50\n",
      "10\n",
      "20\n",
      "30\n",
      "40\n",
      "50\n",
      "10\n",
      "20\n",
      "30\n",
      "40\n",
      "50\n"
     ]
    },
    {
     "ename": "IndexError",
     "evalue": "index 100 is out of bounds for axis 0 with size 100",
     "output_type": "error",
     "traceback": [
      "\u001b[1;31m---------------------------------------------------------------------------\u001b[0m",
      "\u001b[1;31mIndexError\u001b[0m                                Traceback (most recent call last)",
      "Cell \u001b[1;32mIn[11], line 11\u001b[0m\n\u001b[0;32m      9\u001b[0m RH_s \u001b[38;5;241m=\u001b[39m []\n\u001b[0;32m     10\u001b[0m Ta_s \u001b[38;5;241m=\u001b[39m []\n\u001b[1;32m---> 11\u001b[0m \u001b[38;5;28;01mwhile\u001b[39;00m \u001b[43mmin_data\u001b[49m\u001b[43m[\u001b[49m\u001b[43mt_idx\u001b[49m\u001b[38;5;241;43m+\u001b[39;49m\u001b[38;5;241;43m1\u001b[39;49m\u001b[43m]\u001b[49m[\u001b[38;5;241m0\u001b[39m][\u001b[38;5;241m-\u001b[39m\u001b[38;5;241m2\u001b[39m:] \u001b[38;5;241m!=\u001b[39m \u001b[38;5;124m'\u001b[39m\u001b[38;5;124m00\u001b[39m\u001b[38;5;124m'\u001b[39m:\n\u001b[0;32m     12\u001b[0m     \u001b[38;5;28mprint\u001b[39m(min_data[t_idx\u001b[38;5;241m+\u001b[39m\u001b[38;5;241m1\u001b[39m][\u001b[38;5;241m0\u001b[39m][\u001b[38;5;241m-\u001b[39m\u001b[38;5;241m2\u001b[39m:])\n\u001b[0;32m     13\u001b[0m     temp_item \u001b[38;5;241m=\u001b[39m min_data[t_idx]\n",
      "\u001b[1;31mIndexError\u001b[0m: index 100 is out of bounds for axis 0 with size 100"
     ]
    }
   ],
   "source": [
    "hour_data = []\n",
    "for data_item_idx in range(len(min_data)):\n",
    "    data_item = min_data[data_item_idx]\n",
    "    data_time = data_item[0]\n",
    "    if data_time[-2:] == '00':\n",
    "        hour_data_item = []\n",
    "        t_idx = data_item_idx\n",
    "        SRd_s = []\n",
    "        RH_s = []\n",
    "        Ta_s = []\n",
    "        while min_data[t_idx+1][0][-2:] != '00':\n",
    "            print(min_data[t_idx+1][0][-2:])\n",
    "            temp_item = min_data[t_idx]\n",
    "            SRd_s.append(float(temp_item[1]))\n",
    "            RH_s.append(float(temp_item[2]))\n",
    "            Ta_s.append(float(temp_item[3]))\n",
    "            t_idx += 1\n",
    "        SRd_hour = numpy.array(SRd_s).mean()\n",
    "        Ta_hour = numpy.array(Ta_s).mean()\n",
    "        RH_hour_min = numpy.array(RH_s).min()\n",
    "        TA_hour_max = numpy.array(Ta_s).max()\n",
    "        # TIME, TA, TA_day_mean, NDVI, SRd, SRd_day, RH_hour_min, Ta_hour_max \n",
    "        hour_data_item.append(data_time[:-2])\n",
    "        hour_data_item.append(Ta_hour)\n",
    "        hour_data_item.append(TA_day_mean)\n",
    "        hour_data_item.append(NDVI_day_mean)\n",
    "        hour_data_item.append(SRd_hour)\n",
    "        hour_data_item.append(NETRAD_day)\n",
    "        hour_data_item.append(RH_hour_min)\n",
    "        hour_data_item.append(TA_hour_max)\n",
    "    hour_data.append(hour_data_item)"
   ]
  },
  {
   "cell_type": "code",
   "execution_count": null,
   "id": "e41e4ed0",
   "metadata": {},
   "outputs": [],
   "source": [
    "hour_data"
   ]
  }
 ],
 "metadata": {
  "kernelspec": {
   "display_name": "Python 3 (ipykernel)",
   "language": "python",
   "name": "python3"
  },
  "language_info": {
   "codemirror_mode": {
    "name": "ipython",
    "version": 3
   },
   "file_extension": ".py",
   "mimetype": "text/x-python",
   "name": "python",
   "nbconvert_exporter": "python",
   "pygments_lexer": "ipython3",
   "version": "3.10.9"
  }
 },
 "nbformat": 4,
 "nbformat_minor": 5
}
