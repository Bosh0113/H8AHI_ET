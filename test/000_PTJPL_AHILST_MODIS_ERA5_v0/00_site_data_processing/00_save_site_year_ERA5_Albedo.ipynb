{
 "cells": [
  {
   "cell_type": "code",
   "execution_count": 1,
   "id": "0e9ab972",
   "metadata": {},
   "outputs": [],
   "source": [
    "import os\n",
    "import xarray\n",
    "from datetime import datetime, timedelta\n",
    "import numpy"
   ]
  },
  {
   "cell_type": "code",
   "execution_count": 2,
   "id": "71ebe0fc",
   "metadata": {},
   "outputs": [],
   "source": [
    "ERA5_ALBEDO_FOLDER = '/disk2/Data/ERA5_Albedo'"
   ]
  },
  {
   "cell_type": "code",
   "execution_count": 3,
   "id": "f7a198c8",
   "metadata": {},
   "outputs": [],
   "source": [
    "UTC_OFFSET = 9 # hour\n",
    "time_internal = 1  # hour\n",
    "\n",
    "tky_site_loc = (36.146, 137.423) # lat, lon\n",
    "crk_site_loc = (38.201, 127.251) # lat, lon\n",
    "gck_site_loc = (37.748, 127.162) # lat, lon\n",
    "gdk_site_loc = (37.749, 127.149) # lat, lon\n",
    "site_names = ['TKY','CRK', 'GCK', 'GDK']\n",
    "site_locs = [tky_site_loc, crk_site_loc, gck_site_loc, gdk_site_loc]"
   ]
  },
  {
   "cell_type": "code",
   "execution_count": 4,
   "id": "a363b236",
   "metadata": {},
   "outputs": [],
   "source": [
    "def read_site_era5_albedo_month(era5_albedo_grib, lat_site, lon_site):\n",
    "    albedo_ds = xarray.load_dataset(era5_albedo_grib, engine=\"cfgrib\")\n",
    "    albedo_site_ds = albedo_ds.interp(longitude=[lon_site], latitude=[lat_site], method=\"nearest\", kwargs={\"fill_value\": \"extrapolate\"}) # linear\n",
    "    \n",
    "    albedo_v = numpy.array(albedo_site_ds.to_array()[0,1:,:,0,0])\n",
    "    albedo_v_1d = albedo_v.flatten()\n",
    "    albedo_v_1d = numpy.insert(albedo_v_1d, 0, albedo_site_ds.to_array()[0,0,23,0,0])\n",
    "    albedo_v_1d = numpy.delete(albedo_v_1d, -1)\n",
    "    \n",
    "    return albedo_v_1d"
   ]
  },
  {
   "cell_type": "code",
   "execution_count": 5,
   "id": "b2f48619",
   "metadata": {},
   "outputs": [
    {
     "name": "stderr",
     "output_type": "stream",
     "text": [
      "/home/beichen/anaconda3/envs/python36/lib/python3.6/site-packages/xarray/backends/plugins.py:61: RuntimeWarning: Engine 'cfgrib' loading failed:\n",
      "module 'cfgrib.messages' has no attribute 'DEFAULT_INDEXPATH'\n",
      "  warnings.warn(f\"Engine {name!r} loading failed:\\n{ex}\", RuntimeWarning)\n"
     ]
    }
   ],
   "source": [
    "for current_site_idx in range(len(site_names)):\n",
    "    current_site_loc = site_locs[current_site_idx]\n",
    "\n",
    "    years = ['2017', '2018', '2019']\n",
    "    months = ['01', '02', '03', '04', '05', '06', '07', '08', '09', '10', '11', '12']\n",
    "\n",
    "    data_record = []\n",
    "    for year_str in years:\n",
    "        for month_str in months:\n",
    "            year_month = year_str + '_' + month_str\n",
    "            grib_filename = os.path.join(ERA5_ALBEDO_FOLDER, year_month + '.grib')\n",
    "            if os.path.exists(grib_filename):\n",
    "                utc_start_date = datetime.strptime(year_month + '-01T00:00:00Z', \"%Y_%m-%dT%H:%M:%SZ\")\n",
    "                file_site_v_list = read_site_era5_albedo_month(grib_filename, current_site_loc[0], current_site_loc[1])\n",
    "                current_date = utc_start_date\n",
    "                for site_v in file_site_v_list:\n",
    "                    local_current_date = current_date + timedelta(hours=UTC_OFFSET)\n",
    "                    local_current_time = local_current_date.strftime(\"%Y-%m-%dT%H:%M:%SZ\")\n",
    "                    data_record.append([local_current_time, str(site_v)])\n",
    "                    current_date = current_date + timedelta(hours=time_internal)\n",
    "    albedo_site_data = numpy.array(data_record)\n",
    "    \n",
    "    numpy.savetxt(os.path.join(ERA5_ALBEDO_FOLDER, site_names[current_site_idx]+'_ERA5_Albedo'+'.csv'), albedo_site_data, delimiter=\",\", fmt='%s')"
   ]
  }
 ],
 "metadata": {
  "kernelspec": {
   "display_name": "Python 3",
   "language": "python",
   "name": "python3"
  },
  "language_info": {
   "codemirror_mode": {
    "name": "ipython",
    "version": 3
   },
   "file_extension": ".py",
   "mimetype": "text/x-python",
   "name": "python",
   "nbconvert_exporter": "python",
   "pygments_lexer": "ipython3",
   "version": "3.6.8"
  }
 },
 "nbformat": 4,
 "nbformat_minor": 5
}
