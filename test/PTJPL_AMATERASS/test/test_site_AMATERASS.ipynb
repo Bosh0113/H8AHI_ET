{
 "cells": [
  {
   "cell_type": "code",
   "execution_count": 1,
   "id": "7c1a1033",
   "metadata": {},
   "outputs": [],
   "source": [
    "import os\n",
    "import numpy\n",
    "import bz2"
   ]
  },
  {
   "cell_type": "code",
   "execution_count": 7,
   "id": "f2dfcd18",
   "metadata": {},
   "outputs": [],
   "source": [
    "pixel_size = 0.01 # 0.01°\n",
    "# TKY site\n",
    "site_loc = (36.146, 137.423) # lat, lon\n",
    "# AMATERASS extent\n",
    "amaterass_extent = (120.0, 150.0, 22.4, 47.6) # l_lon, r_lon, b_lat, t_lat"
   ]
  },
  {
   "cell_type": "code",
   "execution_count": 3,
   "id": "dc23dce1",
   "metadata": {},
   "outputs": [],
   "source": [
    "bz2_filename = r'D:\\PhD_Workspace\\H8_ET\\231017\\JP_AMATERASS\\201807182000.rh.sfc.msm.1km.bin.bz2'\n",
    "bz2_file = bz2.BZ2File(bz2_filename)\n",
    "bz2_data = bz2_file.read()\n",
    "jp_data = numpy.frombuffer(bz2_data, dtype='>f4').reshape(2521, 3001)\n",
    "bz2_data.close()"
   ]
  },
  {
   "cell_type": "code",
   "execution_count": 13,
   "id": "5b24b3d1",
   "metadata": {},
   "outputs": [],
   "source": [
    "site_lat_idx = int((amaterass_extent[3] - site_loc[0])/pixel_size)\n",
    "site_lon_idx = int((site_loc[1] - amaterass_extent[0])/pixel_size)"
   ]
  },
  {
   "cell_type": "code",
   "execution_count": 17,
   "id": "ee86f22a",
   "metadata": {},
   "outputs": [
    {
     "data": {
      "text/plain": [
       "81.52691"
      ]
     },
     "execution_count": 17,
     "metadata": {},
     "output_type": "execute_result"
    }
   ],
   "source": [
    "jp_data[site_lat_idx][site_lon_idx]"
   ]
  }
 ],
 "metadata": {
  "kernelspec": {
   "display_name": "Python 3 (ipykernel)",
   "language": "python",
   "name": "python3"
  },
  "language_info": {
   "codemirror_mode": {
    "name": "ipython",
    "version": 3
   },
   "file_extension": ".py",
   "mimetype": "text/x-python",
   "name": "python",
   "nbconvert_exporter": "python",
   "pygments_lexer": "ipython3",
   "version": "3.10.9"
  }
 },
 "nbformat": 4,
 "nbformat_minor": 5
}
