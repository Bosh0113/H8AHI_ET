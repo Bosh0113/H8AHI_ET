{
 "cells": [
  {
   "cell_type": "code",
   "execution_count": 1,
   "id": "48100eec",
   "metadata": {},
   "outputs": [],
   "source": [
    "import numpy\n",
    "import os\n",
    "import xarray\n",
    "from datetime import datetime, timedelta"
   ]
  },
  {
   "cell_type": "code",
   "execution_count": 2,
   "id": "a39d51de",
   "metadata": {},
   "outputs": [],
   "source": [
    "MOD05_TPEV_FLODER = '/disk2/Data/MOD05_L2_day_GeoTiff'"
   ]
  },
  {
   "cell_type": "code",
   "execution_count": 3,
   "id": "c207abf5",
   "metadata": {},
   "outputs": [],
   "source": [
    "def read_tpwv_site(modis_tpwv_tif, site_locs):\n",
    "    modis_wv_ds = xarray.open_rasterio(modis_tpwv_tif)\n",
    "    sites_v = []\n",
    "    for site_loc in site_locs:\n",
    "        lat_site = site_loc[0]\n",
    "        lon_site = site_loc[1]\n",
    "        site_ds = modis_wv_ds.interp(x=[lon_site], y=[lat_site], method=\"nearest\", kwargs={\"fill_value\": \"extrapolate\"}) # linear\n",
    "        wv_dn = numpy.array(site_ds.values)[0][0][0]\n",
    "        if wv_dn == -9999:\n",
    "            sites_v.append(numpy.NaN)\n",
    "        else:\n",
    "            data_v = wv_dn*0.001+0.0\n",
    "            sites_v.append(data_v)\n",
    "    return sites_v"
   ]
  },
  {
   "cell_type": "code",
   "execution_count": 4,
   "id": "48fbf2a8",
   "metadata": {},
   "outputs": [],
   "source": [
    "tky_site_loc = (36.146, 137.423) # lat, lon\n",
    "crk_site_loc = (38.201, 127.251) # lat, lon\n",
    "gck_site_loc = (37.748, 127.162) # lat, lon\n",
    "gdk_site_loc = (37.749, 127.149) # lat, lon\n",
    "site_names = ['TKY','CRK', 'GCK', 'GDK']\n",
    "site_locs = [tky_site_loc, crk_site_loc, gck_site_loc, gdk_site_loc]"
   ]
  },
  {
   "cell_type": "code",
   "execution_count": 5,
   "id": "179f22ef",
   "metadata": {},
   "outputs": [],
   "source": [
    "years = ['2018', '2019']\n",
    "year_days = [(3-len(str(day_n)))*'0' + str(day_n) for day_n in numpy.arange(1, 366, 1)]\n",
    "\n",
    "site_record = []\n",
    "for site_idx in range(len(site_names)):\n",
    "    site_record.append([])\n",
    "\n",
    "for year_str in years:\n",
    "    year_first_day_date = datetime.strptime(year_str + '-01-01T00:00:00Z', \"%Y-%m-%dT%H:%M:%SZ\")\n",
    "    for day_idx in range(len(year_days)):\n",
    "        day_str = year_days[day_idx]\n",
    "        data_filename = os.path.join(MOD05_TPEV_FLODER, year_str, 'MOD05_L2.A' + year_str + day_str + '.tif')\n",
    "\n",
    "        this_day_date = year_first_day_date + timedelta(days=day_idx)\n",
    "        this_day_time = this_day_date.strftime(\"%Y-%m-%dT%H:%M:%SZ\")\n",
    "\n",
    "        day_site_vs = read_tpwv_site(data_filename, site_locs)\n",
    "        \n",
    "        for site_idx in range(len(site_names)):\n",
    "            record_item = [this_day_time, str(day_site_vs[site_idx])]\n",
    "            site_record[site_idx].append(record_item)\n",
    "            \n",
    "wv_record = numpy.array(site_record)\n",
    "for site_idx in range(len(site_names)):\n",
    "    numpy.savetxt(os.path.join(MOD05_TPEV_FLODER, site_names[site_idx]+'_MOD05_TPWV'+'.csv'), wv_record[site_idx], delimiter=\",\", fmt='%s')"
   ]
  }
 ],
 "metadata": {
  "kernelspec": {
   "display_name": "Python 3",
   "language": "python",
   "name": "python3"
  },
  "language_info": {
   "codemirror_mode": {
    "name": "ipython",
    "version": 3
   },
   "file_extension": ".py",
   "mimetype": "text/x-python",
   "name": "python",
   "nbconvert_exporter": "python",
   "pygments_lexer": "ipython3",
   "version": "3.6.8"
  }
 },
 "nbformat": 4,
 "nbformat_minor": 5
}
