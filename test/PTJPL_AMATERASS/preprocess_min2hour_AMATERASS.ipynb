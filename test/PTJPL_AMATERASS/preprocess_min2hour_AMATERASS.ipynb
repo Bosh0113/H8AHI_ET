{
 "cells": [
  {
   "cell_type": "code",
   "execution_count": 16,
   "id": "9ccf2fac",
   "metadata": {},
   "outputs": [],
   "source": [
    "import numpy\n",
    "from datetime import datetime, timedelta"
   ]
  },
  {
   "cell_type": "code",
   "execution_count": 17,
   "id": "ce8b15d8",
   "metadata": {},
   "outputs": [],
   "source": [
    "UTC_OFFSET = 9 # hour\n",
    "min_data_csv = r'C:\\GitWork\\H8AHI_ET\\test\\PTJPL_AMATERASS\\AMATERASS_TKY_nodata.csv'"
   ]
  },
  {
   "cell_type": "code",
   "execution_count": 18,
   "id": "2b8ea106",
   "metadata": {},
   "outputs": [],
   "source": [
    "min_data = numpy.loadtxt(min_data_csv, delimiter=\",\", dtype=str) # TIME, SRd, RH, Ta"
   ]
  },
  {
   "cell_type": "code",
   "execution_count": 19,
   "id": "c4075c57",
   "metadata": {},
   "outputs": [],
   "source": [
    "NETRAD_day = min_data[:,1].astype(float).mean()\n",
    "TA_day_mean = min_data[:,3].astype(float).mean()\n",
    "TA_day_max = min_data[:,3].astype(float).max()\n",
    "NDVI_day_mean = 0.9"
   ]
  },
  {
   "cell_type": "code",
   "execution_count": 20,
   "id": "94810c59",
   "metadata": {},
   "outputs": [],
   "source": [
    "hour_data = []\n",
    "for data_item_idx in range(len(min_data)):\n",
    "    data_item = min_data[data_item_idx]\n",
    "    data_time = data_item[0]\n",
    "    if data_time[-2:] == '00':\n",
    "        hour_data_item = []\n",
    "        t_idx = data_item_idx\n",
    "        SRd_s = []\n",
    "        RH_s = []\n",
    "        Ta_s = []\n",
    "        while t_idx+1 < len(min_data) and min_data[t_idx+1][0][-2:] != '00':\n",
    "            temp_item = min_data[t_idx]\n",
    "            SRd_s.append(float(temp_item[1]))\n",
    "            RH_s.append(float(temp_item[2]))\n",
    "            Ta_s.append(float(temp_item[3]))\n",
    "            t_idx += 1\n",
    "        SRd_hour = numpy.array(SRd_s).mean()\n",
    "        Ta_hour = numpy.array(Ta_s).mean()\n",
    "        RH_hour_min = numpy.array(RH_s).min()\n",
    "        # Time,TA,TA_day_mean,NDVI_day_mean,NETRAD,NETRAD_day,RH_hour_min,TA_day_max\n",
    "        data_date = datetime.strptime(data_time[:-2], \"%Y%m%d%H\") + timedelta(hours=UTC_OFFSET)\n",
    "        data_date_str = data_date.strftime(\"%Y/%m/%d %H:00\")\n",
    "        hour_data_item.append(data_date_str)\n",
    "        hour_data_item.append(Ta_hour)\n",
    "        hour_data_item.append(TA_day_mean)\n",
    "        hour_data_item.append(NDVI_day_mean)\n",
    "        hour_data_item.append(SRd_hour)\n",
    "        hour_data_item.append(NETRAD_day)\n",
    "        hour_data_item.append(RH_hour_min)\n",
    "        hour_data_item.append(TA_day_max)\n",
    "        hour_data.append(hour_data_item)"
   ]
  },
  {
   "cell_type": "code",
   "execution_count": 21,
   "id": "169ac904",
   "metadata": {},
   "outputs": [],
   "source": [
    "numpy.savetxt(r\"C:\\GitWork\\H8AHI_ET\\test\\PTJPL_AMATERASS\\AMATERASS_TKY_hourly.csv\", numpy.array(hour_data), delimiter=\",\", fmt='%s')"
   ]
  }
 ],
 "metadata": {
  "kernelspec": {
   "display_name": "Python 3 (ipykernel)",
   "language": "python",
   "name": "python3"
  },
  "language_info": {
   "codemirror_mode": {
    "name": "ipython",
    "version": 3
   },
   "file_extension": ".py",
   "mimetype": "text/x-python",
   "name": "python",
   "nbconvert_exporter": "python",
   "pygments_lexer": "ipython3",
   "version": "3.10.9"
  }
 },
 "nbformat": 4,
 "nbformat_minor": 5
}
