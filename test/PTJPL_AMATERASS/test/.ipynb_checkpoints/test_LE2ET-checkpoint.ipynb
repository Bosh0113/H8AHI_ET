{
 "cells": [
  {
   "cell_type": "code",
   "execution_count": 2,
   "id": "317f5494",
   "metadata": {},
   "outputs": [],
   "source": [
    "import numpy"
   ]
  },
  {
   "cell_type": "code",
   "execution_count": 17,
   "id": "6f1d898f",
   "metadata": {},
   "outputs": [],
   "source": [
    "# LE (W/m²) to ET (mm/day) by Temp (K)\n",
    "def LE2ET(le_day, t_k):\n",
    "    l_v = (2.501-0.00234*(t_k - 273.15))*1e6\n",
    "    et_v = 3600*24*le_day/l_v\n",
    "    return et_v"
   ]
  },
  {
   "cell_type": "code",
   "execution_count": 18,
   "id": "76532376",
   "metadata": {},
   "outputs": [],
   "source": [
    "# TKY 2018/7/19 day 200\n",
    "le_s = [-17.119396, -7.2516066, 10.3622974, -3.255511, 5.2523814, -2.937613, 5.0757714, 1.819083, -4.5953922, -2.2264634, 21.675934, -0.74329262, 0.12115446, 5.4855066, 10.4694408, 5.9658858, 39.32516, 11.962384, 103.658296, 65.616502, 78.096942, 145.64438, 278.80832, 239.24768, 122.4496, 131.8688, 284.57758, 158.59578, 152.82652, 180.25994, 176.84548, 255.4958, 137.28484, 65.298604, 140.1106, 34.721526, 19.238716, -10.9710132, -1.901501, -1.04753278, -0.53347994, -1.607151, 0.5557328, 0.76931316, -7.2963478, -8.2206068, 0.39996278, 2.914065]"
   ]
  },
  {
   "cell_type": "code",
   "execution_count": 19,
   "id": "cb6f43c6",
   "metadata": {},
   "outputs": [],
   "source": [
    "le_day = numpy.array(le_s).mean()"
   ]
  },
  {
   "cell_type": "code",
   "execution_count": 20,
   "id": "a3b09dc2",
   "metadata": {},
   "outputs": [
    {
     "data": {
      "text/plain": [
       "58.81443898458334"
      ]
     },
     "execution_count": 20,
     "metadata": {},
     "output_type": "execute_result"
    }
   ],
   "source": [
    "le_day"
   ]
  },
  {
   "cell_type": "code",
   "execution_count": 21,
   "id": "a6523a56",
   "metadata": {},
   "outputs": [
    {
     "data": {
      "text/plain": [
       "2.0824730871205177"
      ]
     },
     "execution_count": 21,
     "metadata": {},
     "output_type": "execute_result"
    }
   ],
   "source": [
    "LE2ET(le_day, 26+273.15)"
   ]
  }
 ],
 "metadata": {
  "kernelspec": {
   "display_name": "Python 3 (ipykernel)",
   "language": "python",
   "name": "python3"
  },
  "language_info": {
   "codemirror_mode": {
    "name": "ipython",
    "version": 3
   },
   "file_extension": ".py",
   "mimetype": "text/x-python",
   "name": "python",
   "nbconvert_exporter": "python",
   "pygments_lexer": "ipython3",
   "version": "3.10.9"
  }
 },
 "nbformat": 4,
 "nbformat_minor": 5
}
