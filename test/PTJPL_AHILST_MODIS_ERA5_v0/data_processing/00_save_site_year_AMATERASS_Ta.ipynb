{
 "cells": [
  {
   "cell_type": "code",
   "execution_count": 25,
   "id": "254c553c",
   "metadata": {},
   "outputs": [],
   "source": [
    "import os\n",
    "import numpy\n",
    "import bz2\n",
    "from datetime import datetime, timedelta"
   ]
  },
  {
   "cell_type": "code",
   "execution_count": 26,
   "id": "89582296",
   "metadata": {},
   "outputs": [],
   "source": [
    "WORKSPACE_FOLDER = os.getcwd()\n",
    "AMATERASS_RSD_FOLDER = '/data01/people/beichen/workspace/AMATERASS_Ta'"
   ]
  },
  {
   "cell_type": "code",
   "execution_count": 27,
   "id": "a9e029a9",
   "metadata": {},
   "outputs": [],
   "source": [
    "START_TIME = '2018-01-01T00:00:00Z' # local time\n",
    "END_TIME = '2019-12-31T23:59:59Z'\n",
    "\n",
    "UTC_OFFSET = 9 # hour\n",
    "time_internal = 10  # mins\n",
    "\n",
    "pixel_size = 0.01 # 0.01°\n",
    "# AMATERASS extent\n",
    "amaterass_extent = (120.0, 150.0, 22.4, 47.6) # l_lon, r_lon, b_lat, t_lat"
   ]
  },
  {
   "cell_type": "code",
   "execution_count": 28,
   "id": "3bf31b8a",
   "metadata": {},
   "outputs": [],
   "source": [
    "tky_site_loc = (36.146, 137.423) # lat, lon\n",
    "crk_site_loc = (38.201, 127.251) # lat, lon\n",
    "gck_site_loc = (37.748, 127.162) # lat, lon\n",
    "gdk_site_loc = (37.749, 127.149) # lat, lon\n",
    "site_names = ['TKY','CRK', 'GCK', 'GDK']\n",
    "site_locs = [tky_site_loc, crk_site_loc, gck_site_loc, gdk_site_loc]"
   ]
  },
  {
   "cell_type": "code",
   "execution_count": 29,
   "id": "a9446b36",
   "metadata": {},
   "outputs": [],
   "source": [
    "def read_AMATERASS_data(bz2_filename, site_locs):\n",
    "    if os.path.exists(bz2_filename):\n",
    "        try:\n",
    "            bz2_file = bz2.BZ2File(bz2_filename)\n",
    "            bz2_data = bz2_file.read()\n",
    "            jp_data = numpy.frombuffer(bz2_data, dtype='>f4').reshape(2521, 3001)\n",
    "\n",
    "            site_array = []\n",
    "            for site_loc in site_locs:\n",
    "                site_lat_idx = int((amaterass_extent[3] - site_loc[0])/pixel_size)\n",
    "                site_lon_idx = int((site_loc[1] - amaterass_extent[0])/pixel_size)\n",
    "                site_v = jp_data[site_lat_idx][site_lon_idx]\n",
    "                site_array.append(site_v)\n",
    "            return numpy.array(site_array)\n",
    "        except Exception as e:\n",
    "            print(bz2_filename)\n",
    "            print(e)\n",
    "            nan_array = numpy.zeros(4,)\n",
    "            nan_array[nan_array==0] = numpy.NaN\n",
    "            return nan_array\n",
    "    else:\n",
    "        nan_array = numpy.zeros(4,)\n",
    "        nan_array[nan_array==0] = numpy.NaN\n",
    "        return nan_array"
   ]
  },
  {
   "cell_type": "code",
   "execution_count": 30,
   "id": "6c9755eb",
   "metadata": {},
   "outputs": [],
   "source": [
    "utc_start_date = datetime.strptime(START_TIME, \"%Y-%m-%dT%H:%M:%SZ\") - timedelta(hours=UTC_OFFSET)\n",
    "utc_end_date = datetime.strptime(END_TIME, \"%Y-%m-%dT%H:%M:%SZ\") - timedelta(hours=UTC_OFFSET)\n",
    "\n",
    "site_record = []\n",
    "for site_idx in range(len(site_names)):\n",
    "    site_record.append([])\n",
    "temp_date = utc_start_date\n",
    "while temp_date < utc_end_date:\n",
    "    current_time_str = temp_date.strftime(\"%Y%m%d%H%M\")\n",
    "    month_folder = temp_date.strftime(\"%Y%m\")\n",
    "    day_folder = temp_date.strftime(\"%Y%m%d\")\n",
    "    file_path = AMATERASS_RSD_FOLDER + '/' + month_folder + '/' + day_folder + '/' + current_time_str + '.tsfc.msm.1km.bin.bz2'\n",
    "    site_vs = read_AMATERASS_data(file_path, site_locs)\n",
    "    \n",
    "    this_day_date = temp_date + timedelta(hours=UTC_OFFSET)\n",
    "    this_day_time = this_day_date.strftime(\"%Y-%m-%dT%H:%M:%SZ\")\n",
    "    for site_idx in range(len(site_names)):\n",
    "        site_record[site_idx].append([this_day_time, str(site_vs[site_idx])])\n",
    "    \n",
    "    temp_date = temp_date + timedelta(minutes=time_internal)"
   ]
  },
  {
   "cell_type": "code",
   "execution_count": 31,
   "id": "b915ebe8",
   "metadata": {},
   "outputs": [],
   "source": [
    "for site_idx in range(len(site_names)):\n",
    "    site_name = site_names[site_idx]\n",
    "    site_record_item = numpy.array(site_record[site_idx])\n",
    "    numpy.savetxt(os.path.join(WORKSPACE_FOLDER, site_name+'_AMATERASS_Ta'+'.csv'), site_record_item, delimiter=\",\", fmt='%s')"
   ]
  }
 ],
 "metadata": {
  "kernelspec": {
   "display_name": "Python 3 (ipykernel)",
   "language": "python",
   "name": "python3"
  },
  "language_info": {
   "codemirror_mode": {
    "name": "ipython",
    "version": 3
   },
   "file_extension": ".py",
   "mimetype": "text/x-python",
   "name": "python",
   "nbconvert_exporter": "python",
   "pygments_lexer": "ipython3",
   "version": "3.10.9"
  }
 },
 "nbformat": 4,
 "nbformat_minor": 5
}
