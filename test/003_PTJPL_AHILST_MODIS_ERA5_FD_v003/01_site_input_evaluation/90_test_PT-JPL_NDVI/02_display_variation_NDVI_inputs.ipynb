{
 "cells": [
  {
   "cell_type": "code",
   "execution_count": 1,
   "id": "194ac0c2",
   "metadata": {},
   "outputs": [],
   "source": [
    "import os\n",
    "import numpy\n",
    "from datetime import datetime, timedelta\n",
    "import matplotlib.pyplot as plt"
   ]
  },
  {
   "cell_type": "code",
   "execution_count": 2,
   "id": "11db1bd3",
   "metadata": {},
   "outputs": [],
   "source": [
    "def mean_curve_30min(site_name, time_list, site_cal_et, input_para='', min_et=-10, max_et=650, save_flag=0):\n",
    "    # 30-min\n",
    "    formatted_dates = []\n",
    "    for date_string in time_list:\n",
    "        dt_object = datetime.strptime(date_string, \"%Y-%m-%dT%H:%M:%SZ\")\n",
    "        formatted_date = dt_object.strftime(\"%-d\")\n",
    "        formatted_dates.append(formatted_date)\n",
    "\n",
    "    plt.figure(figsize=(20, 4))\n",
    "    plt.plot(numpy.linspace(0, len(site_cal_et), len(site_cal_et)), site_cal_et, '-', color='red', label=input_para)\n",
    "    xtick_intervals = 24*2\n",
    "    plt.xticks(numpy.linspace(0, len(formatted_dates), int(len(formatted_dates)/xtick_intervals)), formatted_dates[::xtick_intervals], rotation=45, ha='right')\n",
    "#     plt.ylabel(r'$W/m^2$', fontsize=14)\n",
    "    plt.xlim(0,len(time_list))\n",
    "    plt.ylim((min_et,max_et))\n",
    "    title_str = site_name + ' ' + (time_list[0] + ' - ' + time_list[-1]).replace('T',' ').replace('Z','')\n",
    "    plt.title(title_str)\n",
    "    plt.legend()\n",
    "    if save_flag:\n",
    "        plt.savefig(os.path.join(OUTPUT_FOLDER, site_name+'_month_30min_'+ title_str + '.png'), dpi=300)\n",
    "    else:\n",
    "        plt.show()\n",
    "        plt.clf()"
   ]
  },
  {
   "cell_type": "code",
   "execution_count": 5,
   "id": "f90aa787",
   "metadata": {},
   "outputs": [],
   "source": [
    "site_infos = [# site, lat, lon, UTC+\n",
    "    [\"CLC\", 44.59666667, 123.4702778, 8]\n",
    "]"
   ]
  },
  {
   "cell_type": "code",
   "execution_count": 6,
   "id": "26f8b173",
   "metadata": {},
   "outputs": [],
   "source": [
    "OUTPUT_FOLDER = '/disk2/workspace/20240327'"
   ]
  },
  {
   "cell_type": "markdown",
   "id": "7c2c253b",
   "metadata": {},
   "source": [
    "## NDVI"
   ]
  },
  {
   "cell_type": "code",
   "execution_count": 14,
   "id": "0a9f6b49",
   "metadata": {},
   "outputs": [
    {
     "name": "stdout",
     "output_type": "stream",
     "text": [
      "CLC\n",
      "(105120,)\n"
     ]
    },
    {
     "data": {
      "image/png": "[encoded data removed]",
      "text/plain": [
       "<Figure size 1440x288 with 1 Axes>"
      ]
     },
     "metadata": {
      "needs_background": "light"
     },
     "output_type": "display_data"
    },
    {
     "data": {
      "text/plain": [
       "<Figure size 432x288 with 0 Axes>"
      ]
     },
     "metadata": {},
     "output_type": "display_data"
    }
   ],
   "source": [
    "site_name = site_infos[0][0]\n",
    "print(site_name)\n",
    "site_output_csv = os.path.join(OUTPUT_FOLDER, site_name + '_PL-JPL_inputs_testNDVI.csv')\n",
    "\n",
    "csv_data = numpy.genfromtxt(site_output_csv, delimiter=',', dtype=str)\n",
    "csv_v = csv_data[1:, 4]\n",
    "print(csv_v.shape)\n",
    "v_10min = csv_v.astype(float)\n",
    "site_cal_timelist_10min=csv_data[1:, 0]\n",
    "\n",
    "# mean ET every 30 min\n",
    "site_cal_30 = numpy.mean(v_10min.reshape(-1, 3), axis=1)\n",
    "site_cal_timelist_30 = site_cal_timelist_10min[::3]\n",
    "# July\n",
    "month_start_end = ['2018-07-01T00:00:00Z','2018-07-31T23:59:59Z']\n",
    "time_list_month = []\n",
    "site_cal_month = []\n",
    "month_start_date = datetime.strptime(month_start_end[0], \"%Y-%m-%dT%H:%M:%SZ\")\n",
    "month_end_date = datetime.strptime(month_start_end[1], \"%Y-%m-%dT%H:%M:%SZ\")\n",
    "for obs_idx in range(len(site_cal_timelist_30)):\n",
    "    obs_time = site_cal_timelist_30[obs_idx]\n",
    "    obs_time_date = datetime.strptime(obs_time, \"%Y-%m-%dT%H:%M:%SZ\")\n",
    "    if obs_time_date >= month_start_date and obs_time_date < month_end_date:\n",
    "        time_list_month.append(obs_time)\n",
    "        site_cal_month.append(site_cal_30[obs_idx])\n",
    "mean_curve_30min(site_name, time_list_month, site_cal_month, 'NDVI', min_et=0, max_et=1, save_flag=0)"
   ]
  }
 ],
 "metadata": {
  "kernelspec": {
   "display_name": "Python 3",
   "language": "python",
   "name": "python3"
  },
  "language_info": {
   "codemirror_mode": {
    "name": "ipython",
    "version": 3
   },
   "file_extension": ".py",
   "mimetype": "text/x-python",
   "name": "python",
   "nbconvert_exporter": "python",
   "pygments_lexer": "ipython3",
   "version": "3.6.8"
  }
 },
 "nbformat": 4,
 "nbformat_minor": 5
}
