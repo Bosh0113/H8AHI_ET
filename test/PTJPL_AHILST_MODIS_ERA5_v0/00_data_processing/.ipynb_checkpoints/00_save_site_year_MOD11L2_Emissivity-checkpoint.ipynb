{
 "cells": [
  {
   "cell_type": "code",
   "execution_count": 7,
   "id": "48100eec",
   "metadata": {},
   "outputs": [],
   "source": [
    "import numpy\n",
    "import os\n",
    "import xarray\n",
    "from datetime import datetime, timedelta"
   ]
  },
  {
   "cell_type": "code",
   "execution_count": 8,
   "id": "a39d51de",
   "metadata": {},
   "outputs": [],
   "source": [
    "MOD11L2_Emissivity_FLODER = '/disk2/Data/MOD11L2_Emissivity'"
   ]
  },
  {
   "cell_type": "code",
   "execution_count": 9,
   "id": "c207abf5",
   "metadata": {},
   "outputs": [],
   "source": [
    "def read_emis_site(modis_emis_tif, lat_site, lon_site):\n",
    "    modis_ds = xarray.open_rasterio(modis_emis_tif)[0]\n",
    "    jp_ds = modis_ds.interp(x=[lon_site], y=[lat_site], method=\"nearest\", kwargs={\"fill_value\": \"extrapolate\"}) # linear\n",
    "    emis_dn = numpy.array(jp_ds.values)[0][0]\n",
    "    if emis_dn == 0:\n",
    "        return numpy.NaN\n",
    "    else:\n",
    "        data_v = emis_dn*0.002+0.49\n",
    "        return data_v"
   ]
  },
  {
   "cell_type": "code",
   "execution_count": 10,
   "id": "48fbf2a8",
   "metadata": {},
   "outputs": [],
   "source": [
    "tky_site_loc = (36.146, 137.423) # lat, lon\n",
    "crk_site_loc = (38.201, 127.251) # lat, lon\n",
    "gck_site_loc = (37.748, 127.162) # lat, lon\n",
    "gdk_site_loc = (37.749, 127.149) # lat, lon\n",
    "site_names = ['TKY','CRK', 'GCK', 'GDK']\n",
    "site_locs = [tky_site_loc, crk_site_loc, gck_site_loc, gdk_site_loc]"
   ]
  },
  {
   "cell_type": "markdown",
   "id": "6ef7a553",
   "metadata": {},
   "source": [
    "### band31"
   ]
  },
  {
   "cell_type": "code",
   "execution_count": 5,
   "id": "179f22ef",
   "metadata": {},
   "outputs": [],
   "source": [
    "years = ['2018', '2019']\n",
    "year_days = [(3-len(str(day_n)))*'0' + str(day_n) for day_n in numpy.arange(1, 366, 1)]\n",
    "\n",
    "for current_site_idx in range(len(site_names)):\n",
    "    current_site_loc = site_locs[current_site_idx]\n",
    "    \n",
    "    site_record = []\n",
    "    for year_str in years:\n",
    "        year_first_day_date = datetime.strptime(year_str + '-01-01T00:00:00Z', \"%Y-%m-%dT%H:%M:%SZ\")\n",
    "        for day_idx in range(len(year_days)):\n",
    "            day_str = year_days[day_idx]\n",
    "            data_filename = os.path.join(MOD11L2_Emissivity_FLODER, 'MOD11A1.061_Emis_31_doy' + year_str + day_str + '_aid0001.tif')\n",
    "\n",
    "            this_day_date = year_first_day_date + timedelta(days=day_idx)\n",
    "            this_day_time = this_day_date.strftime(\"%Y-%m-%dT%H:%M:%SZ\")\n",
    "\n",
    "            day_site_v = read_emis_site(data_filename, current_site_loc[0], current_site_loc[1])\n",
    "            record_item = [this_day_time, str(day_site_v)]\n",
    "\n",
    "            site_record.append(record_item)\n",
    "    emis_record = numpy.array(site_record)\n",
    "    numpy.savetxt(os.path.join(MOD11L2_Emissivity_FLODER, site_names[current_site_idx]+'_MOD11L2_Emissiviry'+'.csv'), emis_record, delimiter=\",\", fmt='%s')"
   ]
  },
  {
   "cell_type": "markdown",
   "id": "79b283fc",
   "metadata": {},
   "source": [
    "## Broadband emissivity"
   ]
  },
  {
   "cell_type": "code",
   "execution_count": 13,
   "id": "bad404f6",
   "metadata": {},
   "outputs": [],
   "source": [
    "def calculate_BBE(band31_emis, band32_emis):\n",
    "    bbe = 0.261 + 0.3147*band31_emis + 0.411*band32_emis\n",
    "#     bbe = 0.273 + 1.778*band31_emis - 1.807*band31_emis*band32_emis - 1.307*band32_emis + 1.774*(band32_emis**2)\n",
    "    return bbe"
   ]
  },
  {
   "cell_type": "code",
   "execution_count": 14,
   "id": "5978a1a3",
   "metadata": {},
   "outputs": [],
   "source": [
    "years = ['2018', '2019']\n",
    "year_days = [(3-len(str(day_n)))*'0' + str(day_n) for day_n in numpy.arange(1, 366, 1)]\n",
    "\n",
    "for current_site_idx in range(len(site_names)):\n",
    "    current_site_loc = site_locs[current_site_idx]\n",
    "    \n",
    "    site_record = []\n",
    "    for year_str in years:\n",
    "        year_first_day_date = datetime.strptime(year_str + '-01-01T00:00:00Z', \"%Y-%m-%dT%H:%M:%SZ\")\n",
    "        for day_idx in range(len(year_days)):\n",
    "            day_str = year_days[day_idx]\n",
    "            data_filename31 = os.path.join(MOD11L2_Emissivity_FLODER, 'MOD11A1.061_Emis_31_doy' + year_str + day_str + '_aid0001.tif')\n",
    "            data_filename32 = os.path.join(MOD11L2_Emissivity_FLODER, 'MOD11A1.061_Emis_32_doy' + year_str + day_str + '_aid0001.tif')\n",
    "\n",
    "            this_day_date = year_first_day_date + timedelta(days=day_idx)\n",
    "            this_day_time = this_day_date.strftime(\"%Y-%m-%dT%H:%M:%SZ\")\n",
    "\n",
    "            day_site_v31 = read_emis_site(data_filename31, current_site_loc[0], current_site_loc[1])\n",
    "            day_site_v32 = read_emis_site(data_filename32, current_site_loc[0], current_site_loc[1])\n",
    "            day_site_vBBE = calculate_BBE(day_site_v31, day_site_v32)\n",
    "            record_item = [this_day_time, str(day_site_vBBE)]\n",
    "\n",
    "            site_record.append(record_item)\n",
    "    emis_record = numpy.array(site_record)\n",
    "    numpy.savetxt(os.path.join(MOD11L2_Emissivity_FLODER, site_names[current_site_idx]+'_MOD11L2_Emissiviry_BBE'+'.csv'), emis_record, delimiter=\",\", fmt='%s')"
   ]
  }
 ],
 "metadata": {
  "kernelspec": {
   "display_name": "Python 3",
   "language": "python",
   "name": "python3"
  },
  "language_info": {
   "codemirror_mode": {
    "name": "ipython",
    "version": 3
   },
   "file_extension": ".py",
   "mimetype": "text/x-python",
   "name": "python",
   "nbconvert_exporter": "python",
   "pygments_lexer": "ipython3",
   "version": "3.6.8"
  }
 },
 "nbformat": 4,
 "nbformat_minor": 5
}
