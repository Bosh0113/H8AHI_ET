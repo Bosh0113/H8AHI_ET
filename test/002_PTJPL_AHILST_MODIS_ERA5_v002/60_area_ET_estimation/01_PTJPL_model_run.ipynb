{
 "cells": [
  {
   "cell_type": "code",
   "execution_count": 1,
   "id": "5e2e6112",
   "metadata": {},
   "outputs": [],
   "source": [
    "import os\n",
    "import numpy\n",
    "from datetime import datetime, timedelta"
   ]
  },
  {
   "cell_type": "code",
   "execution_count": 2,
   "id": "298739dc",
   "metadata": {},
   "outputs": [],
   "source": [
    "# mapping\n",
    "import matplotlib.pyplot as plt\n",
    "import cartopy.crs as ccrs\n",
    "import matplotlib.ticker as tck\n",
    "\n",
    "def mapping_jp(v_data, f_title=''):\n",
    "    plt.figure(figsize=(10,10))\n",
    "    jp_extent = (120.0, 150.0, 22.5, 47.5)\n",
    "    proj=ccrs.PlateCarree()\n",
    "    ax=plt.axes(projection=proj)\n",
    "    ax.set_extent(jp_extent,proj)\n",
    "    ax.coastlines(resolution='10m')\n",
    "    gl=ax.gridlines(crs=proj,draw_labels=True)\n",
    "    gl.xlabels_top = False\n",
    "    gl.ylabels_right = False\n",
    "    gl.xlocator = tck.FixedLocator(numpy.arange(120,150,5))\n",
    "    gl.ylocator = tck.FixedLocator(numpy.arange(20,50,5))\n",
    "    plt.imshow(v_data, extent=jp_extent, cmap='gist_ncar', interpolation='None')\n",
    "    plt.colorbar()\n",
    "    plt.title(f_title)\n",
    "    plt.show()"
   ]
  },
  {
   "cell_type": "code",
   "execution_count": 3,
   "id": "02795a22",
   "metadata": {},
   "outputs": [],
   "source": [
    "# JP extent\n",
    "resolution = 0.01 # degree\n",
    "lats = numpy.arange(47.5-resolution/2, 22.5, -resolution)\n",
    "lons = numpy.arange(120.+resolution/2, 150, resolution)\n",
    "\n",
    "UTC_OFFSET = 9 # hour\n",
    "time_internal = 10  # mins"
   ]
  },
  {
   "cell_type": "code",
   "execution_count": 4,
   "id": "38b24141",
   "metadata": {},
   "outputs": [],
   "source": [
    "INPUT_FOLDER = '/data01/people/beichen/workspace/20231124'\n",
    "# area_localtime = '2018-07-19T10:30:00Z'\n",
    "# area_localtime = '2018-07-19T11:00:00Z'\n",
    "# area_localtime = '2018-07-19T11:30:00Z'\n",
    "# area_localtime = '2018-07-19T12:00:00Z'\n",
    "# area_localtime = '2018-07-19T12:30:00Z'\n",
    "# area_localtime = '2018-07-19T13:00:00Z'\n",
    "# area_localtime = '2018-07-19T13:30:00Z'\n",
    "# area_localtime = '2018-07-19T14:00:00Z'\n",
    "# area_localtime = '2018-07-19T14:30:00Z'\n",
    "area_localtime = '2018-07-19T15:00:00Z'"
   ]
  },
  {
   "cell_type": "code",
   "execution_count": 5,
   "id": "bb0dfab1",
   "metadata": {},
   "outputs": [],
   "source": [
    "area_utc_time = datetime.strptime(area_localtime, \"%Y-%m-%dT%H:%M:%SZ\") - timedelta(hours=UTC_OFFSET)\n",
    "area_year = area_utc_time.strftime(\"%Y\")\n",
    "area_month = area_utc_time.strftime(\"%m\")\n",
    "area_day = area_utc_time.strftime(\"%d\")\n",
    "area_hour = area_utc_time.strftime(\"%H\")\n",
    "area_min = area_utc_time.strftime(\"%M\")\n",
    "\n",
    "area_utc_year_1day = datetime.strptime(area_year + '-01-01T00:00:00Z', \"%Y-%m-%dT%H:%M:%SZ\")\n",
    "time_from_1day = area_utc_time - area_utc_year_1day\n",
    "area_doy = time_from_1day.days+1\n",
    "area_doy_str = (3-len(str(area_doy)))*'0' + str(area_doy)"
   ]
  },
  {
   "cell_type": "markdown",
   "id": "70afe2aa",
   "metadata": {},
   "source": [
    "### Read input files"
   ]
  },
  {
   "cell_type": "code",
   "execution_count": 6,
   "id": "afabae82",
   "metadata": {},
   "outputs": [],
   "source": [
    "# Rnet\n",
    "jp_r_net_filename = os.path.join(INPUT_FOLDER, area_utc_time.strftime(\"%Y%m%d%H%M\") + '_input_jp_r_net.npy')\n",
    "r_net_area = numpy.load(jp_r_net_filename)\n",
    "# RH\n",
    "jp_rh_filename = os.path.join(INPUT_FOLDER, area_utc_time.strftime(\"%Y%m%d%H%M\") + '_input_jp_rh.npy')\n",
    "rh_area = numpy.load(jp_rh_filename)\n",
    "# Ta\n",
    "jp_ta_filename = os.path.join(INPUT_FOLDER, area_utc_time.strftime(\"%Y%m%d%H%M\") + '_input_jp_ta.npy')\n",
    "ta_area = numpy.load(jp_ta_filename)\n",
    "# NDVI\n",
    "jp_ndvi_filename = os.path.join(INPUT_FOLDER, area_utc_time.strftime(\"%Y%m%d%H%M\") + '_input_jp_ndvi.npy')\n",
    "ndvi_area = numpy.load(jp_ndvi_filename)"
   ]
  },
  {
   "cell_type": "code",
   "execution_count": 7,
   "id": "50b83eba",
   "metadata": {},
   "outputs": [],
   "source": [
    "# mapping_jp(r_net_area, 'Rnet at ' + area_localtime.replace('T', ' ').replace('Z', ' '))\n",
    "# mapping_jp(rh_area, 'RH at ' + area_localtime.replace('T', ' ').replace('Z', ' '))\n",
    "# mapping_jp(ta_area, 'Ta at ' + area_localtime.replace('T', ' ').replace('Z', ' '))\n",
    "# mapping_jp(ndvi_area, 'NDVI at ' + area_localtime.replace('T', ' ').replace('Z', ' '))"
   ]
  },
  {
   "cell_type": "markdown",
   "id": "e8d2c12e",
   "metadata": {},
   "source": [
    "## Run PT-JPL model"
   ]
  },
  {
   "cell_type": "code",
   "execution_count": 8,
   "id": "174d2598",
   "metadata": {},
   "outputs": [],
   "source": [
    "from ptjpl_ecostress_area import *"
   ]
  },
  {
   "cell_type": "code",
   "execution_count": 9,
   "id": "af62dd57",
   "metadata": {},
   "outputs": [
    {
     "name": "stdout",
     "output_type": "stream",
     "text": [
      "calculating surface wetness values [%]\n",
      "calculating vapor pressure deficit [kPa]\n",
      "calculating vegetation values\n",
      "calculating plant optimum temperature\n",
      "23.5 C\n",
      "calculating soil evaporation\n",
      "calculating canopy transpiration\n",
      "calculating interception evaporation\n",
      "combining evapotranspiration\n",
      "calculating potential evapotranspiration\n"
     ]
    }
   ],
   "source": [
    "et_array = ptjpl_area(r_net_area, rh_area, ta_area, ndvi_area)"
   ]
  },
  {
   "cell_type": "markdown",
   "id": "f0da850a",
   "metadata": {},
   "source": [
    "## Save Estimated ET"
   ]
  },
  {
   "cell_type": "code",
   "execution_count": 10,
   "id": "dda5c20c",
   "metadata": {},
   "outputs": [],
   "source": [
    "OUTPUT_FOLDER = '/data01/people/beichen/workspace/20231124'"
   ]
  },
  {
   "cell_type": "code",
   "execution_count": 11,
   "id": "f17097d8",
   "metadata": {},
   "outputs": [],
   "source": [
    "result_labels = ['evapotranspiration', 'canopy_transpiration', 'interception_evaporation', 'soil_evaporation', 'potential_evapotranspiration']"
   ]
  },
  {
   "cell_type": "code",
   "execution_count": 12,
   "id": "35d9b1fd",
   "metadata": {},
   "outputs": [],
   "source": [
    "jp_et_filename = os.path.join(OUTPUT_FOLDER, area_utc_time.strftime(\"%Y%m%d%H%M\") + '_output_jp_et.npy')\n",
    "numpy.save(jp_et_filename, et_array)"
   ]
  }
 ],
 "metadata": {
  "kernelspec": {
   "display_name": "Python 3 (ipykernel)",
   "language": "python",
   "name": "python3"
  },
  "language_info": {
   "codemirror_mode": {
    "name": "ipython",
    "version": 3
   },
   "file_extension": ".py",
   "mimetype": "text/x-python",
   "name": "python",
   "nbconvert_exporter": "python",
   "pygments_lexer": "ipython3",
   "version": "3.9.12"
  }
 },
 "nbformat": 4,
 "nbformat_minor": 5
}
