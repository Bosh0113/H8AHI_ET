{
 "cells": [
  {
   "cell_type": "code",
   "execution_count": 1,
   "id": "56b71e55",
   "metadata": {},
   "outputs": [],
   "source": [
    "import os\n",
    "import numpy"
   ]
  },
  {
   "cell_type": "code",
   "execution_count": 2,
   "id": "48456093",
   "metadata": {},
   "outputs": [],
   "source": [
    "site_names = ['CRK', 'GCK', 'GDK', 'TKY']\n",
    "\n",
    "def read_site_csv(csv_filename):\n",
    "    csv_data = numpy.genfromtxt(csv_filename, delimiter=',', dtype=str)\n",
    "    csv_v = csv_data[:, 1]\n",
    "    csv_v = csv_v.astype(float)\n",
    "    return csv_data[:, 0], csv_v"
   ]
  },
  {
   "cell_type": "code",
   "execution_count": 4,
   "id": "e91cf9de",
   "metadata": {},
   "outputs": [],
   "source": [
    "storage_folder = '/disk2/workspace/20231122'\n",
    "offsets = [2, 1, 1, 0]"
   ]
  },
  {
   "cell_type": "markdown",
   "id": "a7cd9c65",
   "metadata": {},
   "source": [
    "## RH"
   ]
  },
  {
   "cell_type": "code",
   "execution_count": 7,
   "id": "6c7882b3",
   "metadata": {},
   "outputs": [],
   "source": [
    "ORIGINAL_DATA_FOLDER = '/disk2/Data/FluxSite4ET'\n",
    "\n",
    "for idx in range(len(site_names)):\n",
    "    site_name = site_names[idx]\n",
    "    offset = offsets[idx]\n",
    "    csv_filename = os.path.join(ORIGINAL_DATA_FOLDER, site_name+'_AMATERASS_RH.csv')\n",
    "    data_timelist, o_array = read_site_csv(csv_filename)\n",
    "    n_array=numpy.roll(o_array, offset)\n",
    "    new_data_csv_ = numpy.column_stack((data_timelist, n_array))\n",
    "    numpy.savetxt(os.path.join(storage_folder, site_name+'_RH.csv'), new_data_csv_, delimiter=\",\", fmt='%s')"
   ]
  },
  {
   "cell_type": "markdown",
   "id": "4295cb0a",
   "metadata": {},
   "source": [
    "## Ta"
   ]
  },
  {
   "cell_type": "code",
   "execution_count": 8,
   "id": "a18d74cb",
   "metadata": {},
   "outputs": [],
   "source": [
    "ORIGINAL_DATA_FOLDER = '/disk2/Data/FluxSite4ET'\n",
    "\n",
    "for idx in range(len(site_names)):\n",
    "    site_name = site_names[idx]\n",
    "    offset = offsets[idx]\n",
    "    csv_filename = os.path.join(ORIGINAL_DATA_FOLDER, site_name+'_AMATERASS_Ta.csv')\n",
    "    data_timelist, o_array = read_site_csv(csv_filename)\n",
    "    n_array=numpy.roll(o_array, offset)\n",
    "    new_data_csv_ = numpy.column_stack((data_timelist, n_array))\n",
    "    numpy.savetxt(os.path.join(storage_folder, site_name+'_Ta.csv'), new_data_csv_, delimiter=\",\", fmt='%s')"
   ]
  }
 ],
 "metadata": {
  "kernelspec": {
   "display_name": "Python 3",
   "language": "python",
   "name": "python3"
  },
  "language_info": {
   "codemirror_mode": {
    "name": "ipython",
    "version": 3
   },
   "file_extension": ".py",
   "mimetype": "text/x-python",
   "name": "python",
   "nbconvert_exporter": "python",
   "pygments_lexer": "ipython3",
   "version": "3.6.8"
  }
 },
 "nbformat": 4,
 "nbformat_minor": 5
}
