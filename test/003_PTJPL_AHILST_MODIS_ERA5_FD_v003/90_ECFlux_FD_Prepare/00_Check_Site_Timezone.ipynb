{
 "cells": [
  {
   "cell_type": "code",
   "execution_count": 1,
   "id": "2a775ffd",
   "metadata": {},
   "outputs": [],
   "source": [
    "import os\n",
    "from datetime import datetime\n",
    "from timezonefinder import TimezoneFinder\n",
    "import pytz"
   ]
  },
  {
   "cell_type": "code",
   "execution_count": 2,
   "id": "4bbe1083",
   "metadata": {},
   "outputs": [],
   "source": [
    "site_infos = [\n",
    "    ['CLC', 44.59666667, 123.4702778],\n",
    "    ['JRC', 31.80683056, 119.2172639],\n",
    "    ['PDC', 26.6, 106.3166667],\n",
    "    ['PJC', 40.94138889, 121.9602778], \n",
    "    ['HZF', 51.78111111, 121.0177778], \n",
    "    ['ZAG', 32.8, 102.55], \n",
    "    ['DBB', 41.64397222, 110.3314722], \n",
    "    ['HBG', 37.61666667, 101.3166667], \n",
    "    ['BBY', 43.323, 141.8107], \n",
    "    ['TKY', 36.14616667, 137.4231111], \n",
    "    ['CRK', 38.20138889, 127.2505556], \n",
    "    ['GCK', 37.74833333, 127.1622222], \n",
    "    ['GDK', 37.74888889, 127.1491667], \n",
    "    ['SIP', 0.395204167, 102.7645506], \n",
    "    ['SDP', 0.699491389, 102.793305], \n",
    "    ['ASM', -22.2828, 133.2493], \n",
    "    ['CPW', -33.6152, 150.7236], \n",
    "    ['WAR', -43.095, 146.6545], \n",
    "    ['STP', -17.1507, 133.3502], \n",
    "    ['DRU', -14.1592, 131.3881], \n",
    "    ['ROC', -17.1175, 145.6301], \n",
    "    ['WSF', -37.4222, 144.0944], \n",
    "    ['GIN', -31.3764, 115.7139], \n",
    "    ['CAL', -34.0027, 140.5877], \n",
    "    ['YAN', -34.9893, 146.2907], \n",
    "    ['RID', -32.5061, 116.9668], \n",
    "    ['LIT', -13.179, 130.7945], \n",
    "    ['HOS', -12.4943, 131.1523], \n",
    "    ['GWW', -30.1913, 120.6541], \n",
    "    ['COB', -16.238189, 145.42715], \n",
    "    ['TTE', -22.287, 133.64]\n",
    "]"
   ]
  },
  {
   "cell_type": "code",
   "execution_count": 3,
   "id": "e05d4b66",
   "metadata": {},
   "outputs": [
    {
     "name": "stdout",
     "output_type": "stream",
     "text": [
      "CLC: +08:00\n",
      "JRC: +08:00\n",
      "PDC: +08:00\n",
      "PJC: +08:00\n",
      "HZF: +08:00\n",
      "ZAG: +08:00\n",
      "DBB: +08:00\n",
      "HBG: +08:00\n",
      "BBY: +09:00\n",
      "TKY: +09:00\n",
      "CRK: +09:00\n",
      "GCK: +09:00\n",
      "GDK: +09:00\n",
      "SIP: +07:00\n",
      "SDP: +07:00\n",
      "ASM: +09:30\n",
      "CPW: +11:00\n",
      "WAR: +11:00\n",
      "STP: +09:30\n",
      "DRU: +09:30\n",
      "ROC: +10:00\n",
      "WSF: +11:00\n",
      "GIN: +08:00\n",
      "CAL: +10:30\n",
      "YAN: +11:00\n",
      "RID: +08:00\n",
      "LIT: +09:30\n",
      "HOS: +09:30\n",
      "GWW: +08:00\n",
      "COB: +10:00\n",
      "TTE: +09:30\n"
     ]
    }
   ],
   "source": [
    "for site_info in site_infos:\n",
    "    site_name = site_info[0]\n",
    "    latitude = site_info[1]\n",
    "    longitude = site_info[2]\n",
    "    \n",
    "    tf = TimezoneFinder(in_memory=True)\n",
    "    local_time_zone = tf.timezone_at(lat=latitude, lng=longitude)\n",
    "    \n",
    "    tz = pytz.timezone(local_time_zone)\n",
    "    now = str(datetime.now(tz))\n",
    "    \n",
    "    print(site_name, end=\": \")\n",
    "    print(now[-6:])"
   ]
  }
 ],
 "metadata": {
  "kernelspec": {
   "display_name": "Python 3",
   "language": "python",
   "name": "python3"
  },
  "language_info": {
   "codemirror_mode": {
    "name": "ipython",
    "version": 3
   },
   "file_extension": ".py",
   "mimetype": "text/x-python",
   "name": "python",
   "nbconvert_exporter": "python",
   "pygments_lexer": "ipython3",
   "version": "3.6.8"
  }
 },
 "nbformat": 4,
 "nbformat_minor": 5
}
