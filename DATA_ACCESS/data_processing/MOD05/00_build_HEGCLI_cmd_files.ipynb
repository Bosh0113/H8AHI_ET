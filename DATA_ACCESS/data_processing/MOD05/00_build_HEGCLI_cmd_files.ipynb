{
 "cells": [
  {
   "cell_type": "markdown",
   "id": "fcedac22",
   "metadata": {},
   "source": [
    "## Build parameter files to reproject MOD05 by HEG command"
   ]
  },
  {
   "cell_type": "markdown",
   "id": "35cef157",
   "metadata": {},
   "source": [
    "command like: './subset_stitch_swath -p HegSwathStitch.prm_beichen'"
   ]
  },
  {
   "cell_type": "code",
   "execution_count": null,
   "id": "bb3ece7f",
   "metadata": {},
   "outputs": [],
   "source": [
    "import os"
   ]
  },
  {
   "cell_type": "code",
   "execution_count": null,
   "id": "29222510",
   "metadata": {},
   "outputs": [],
   "source": [
    "MOD05_L2_HDF_FOLDER = '/disk2/Data/MOD05_L2'\n",
    "MOD05_L2_GEOTIFF_FOLDER = '/disk2/Data/MOD05_L2_GeoTiff'\n",
    "HEGCLI_CMD_FOLDER = '/disk2/Data/MOD05_L2_HEG_cmd'\n",
    "\n",
    "day_night_divide = 1.5*1024*1024"
   ]
  },
  {
   "cell_type": "code",
   "execution_count": null,
   "id": "c12522d6",
   "metadata": {},
   "outputs": [],
   "source": [
    "cmd_file_template = '''\n",
    "NUM_RUNS = 1\n",
    "\n",
    "BEGIN\n",
    "NUMBER_INPUTFILES = 7\n",
    "INPUT_FILENAMES = [input_hdf_files]\n",
    "OBJECT_NAME = mod05|\n",
    "FIELD_NAME = Water_Vapor_Near_Infrared|\n",
    "BAND_NUMBER = 1\n",
    "SPATIAL_SUBSET_UL_CORNER = ( 50.0 120.0 )\n",
    "SPATIAL_SUBSET_LR_CORNER = ( 20.0 150.0 )\n",
    "OUTPUT_OBJECT_NAME = mod05|\n",
    "OUTGRID_X_PIXELSIZE = 0.01\n",
    "OUTGRID_Y_PIXELSIZE = 0.01\n",
    "RESAMPLING_TYPE = NN\n",
    "OUTPUT_PROJECTION_TYPE = GEO\n",
    "ELLIPSOID_CODE = WGS84\n",
    "OUTPUT_PROJECTION_PARAMETERS = ( 0.0 0.0 0.0 0.0 0.0 0.0 0.0 0.0 0.0 0.0 0.0 0.0 0.0 0.0 0.0  )\n",
    "OUTPUT_FILENAME = [output_tif_file]\n",
    "SAVE_STITCHED_FILE = NO\n",
    "OUTPUT_STITCHED_FILENAME = [output_hdf_file]\n",
    "OUTPUT_TYPE = GEO\n",
    "END\n",
    "\n",
    "'''\n",
    "\n",
    "cmd_template = '/home/beichen/software/opt/HEG_tool/bin/subset_stitch_swath -p [parameter_file];'"
   ]
  },
  {
   "cell_type": "code",
   "execution_count": null,
   "id": "a3365830",
   "metadata": {},
   "outputs": [],
   "source": [
    "cmd_list_str = ''\n",
    "years = [2018, 2019]\n",
    "for year in years:\n",
    "    year_cmd_folder = os.path.join(HEGCLI_CMD_FOLDER, str(year))\n",
    "    if not os.path.exists(year_cmd_folder):\n",
    "        os.makedirs(year_cmd_folder)\n",
    "    mod05_hdf_folder = os.path.join(MOD05_L2_HDF_FOLDER, str(year))\n",
    "    mod05_year_filelist = os.listdir(mod05_hdf_folder)\n",
    "    mod05_geo_folder = os.path.join(MOD05_L2_GEOTIFF_FOLDER, str(year))\n",
    "    for day_idx in range(1,366,1):\n",
    "        sub_timestr = 'A' + str(year) + (3-len(str(day_idx)))*'0' + str(day_idx)\n",
    "        day_hdf_files = [hdf_file for hdf_file in mod05_year_filelist if sub_timestr in hdf_file]\n",
    "        daytime_hdf_files = []\n",
    "        for day_hdf_file in day_hdf_files:\n",
    "            mod05_hdf_filename = os.path.join(mod05_hdf_folder, day_hdf_file)\n",
    "            size_in_bytes = os.path.getsize(mod05_hdf_filename)\n",
    "            if size_in_bytes > day_night_divide:\n",
    "                daytime_hdf_files.append(mod05_hdf_filename)\n",
    "        merge_hdf_filename = '|'.join(daytime_hdf_files)\n",
    "        output_tif_filename = os.path.join(mod05_geo_folder, 'MOD05_L2.' + sub_timestr + '.tif')\n",
    "        output_hdf_filename = os.path.join(mod05_geo_folder, 'MOD05_L2.' + sub_timestr + '.hdf')\n",
    "        cmd_filename = os.path.join(year_cmd_folder, 'MOD05_L2_' + sub_timestr + '.prm_beichen')\n",
    "        \n",
    "        cmd_file_str = cmd_file_template.replace('[input_hdf_files]', merge_hdf_filename)\n",
    "        cmd_file_str = cmd_file_str.replace('[output_tif_file]', output_tif_filename)\n",
    "        cmd_file_str = cmd_file_str.replace('[output_hdf_file]', output_hdf_filename)\n",
    "        \n",
    "        with open(cmd_filename, 'w') as f:\n",
    "            f.write(cmd_file_str)\n",
    "            print(cmd_filename)\n",
    "        \n",
    "        cmd_c = cmd_template.replace('[parameter_file]', cmd_filename)\n",
    "        cmd_list_str = cmd_list_str + cmd_c\n",
    "\n",
    "with open(os.path.join(HEGCLI_CMD_FOLDER, 'HEGCLI_cmd.sh'), 'w') as f:\n",
    "    f.write(cmd_list_str)\n",
    "    print('over!')"
   ]
  },
  {
   "cell_type": "markdown",
   "id": "d7029b7e",
   "metadata": {},
   "source": [
    "# Just run .sh file can be works!"
   ]
  }
 ],
 "metadata": {
  "kernelspec": {
   "display_name": "Python 3",
   "language": "python",
   "name": "python3"
  },
  "language_info": {
   "codemirror_mode": {
    "name": "ipython",
    "version": 3
   },
   "file_extension": ".py",
   "mimetype": "text/x-python",
   "name": "python",
   "nbconvert_exporter": "python",
   "pygments_lexer": "ipython3",
   "version": "3.6.8"
  }
 },
 "nbformat": 4,
 "nbformat_minor": 5
}
