{
 "cells": [
  {
   "cell_type": "code",
   "execution_count": 1,
   "id": "d8ae12da",
   "metadata": {},
   "outputs": [],
   "source": [
    "import os\n",
    "import numpy\n",
    "import pandas as pd"
   ]
  },
  {
   "cell_type": "code",
   "execution_count": 2,
   "id": "11a4bf3f",
   "metadata": {},
   "outputs": [],
   "source": [
    "def read_site_csv(csv_filename):\n",
    "    csv_data = numpy.genfromtxt(csv_filename, delimiter=',', dtype=str)\n",
    "    csv_v = csv_data[:, 1]\n",
    "    csv_v = csv_v.astype(float)\n",
    "    return csv_data[:, 0], csv_v"
   ]
  },
  {
   "cell_type": "code",
   "execution_count": 4,
   "id": "1186ab26",
   "metadata": {},
   "outputs": [],
   "source": [
    "OUTPUT_FOLDER = '/disk2/workspace/20240109'\n",
    "\n",
    "# site_names = ['TKY', 'CRK', 'GCK', 'GDK']\n",
    "site_names = ['CRK', 'GCK', 'GDK']\n",
    "data_labels = ['RNET(1)','T_AIR(1)', 'RH(1)', 'LE']\n",
    "inputfile_title = ['Time', 'NETRAD', 'TA', 'RH', 'NDVI_day_mean', 'LE']\n",
    "# demo: 2018/7/19 3:00...(W/m2)...(K)...(%)...\n",
    "\n",
    "for i, site_name in enumerate(site_names):\n",
    "    SITE_CSV = '/disk2/Data/FluxSite4ET/validation/'+ site_name + '_2018_2019_L2.csv'\n",
    "    datMMS = pd.read_csv(SITE_CSV)\n",
    "    \n",
    "    r_net_30min = numpy.array(datMMS[data_labels[0]])\n",
    "    ta_30min = numpy.array(datMMS[data_labels[1]]).astype(float)+273.15\n",
    "    rh_30min = numpy.array(datMMS[data_labels[2]])\n",
    "    NDVI_SITE_CSV = '/disk2/workspace/20240109/' + site_name + '_NDVI_LI_30min.csv'\n",
    "    ndvi_timelist, ndvi_30min = read_site_csv(NDVI_SITE_CSV)\n",
    "    le_30min = numpy.array(datMMS[data_labels[3]])\n",
    "    \n",
    "    input_timelist = numpy.copy(ndvi_timelist)\n",
    "    \n",
    "    input_csv_ = numpy.column_stack((numpy.insert(input_timelist, 0, inputfile_title[0]),\n",
    "                                     numpy.insert(r_net_30min.astype(str), 0, inputfile_title[1]),\n",
    "                                     numpy.insert(ta_30min.astype(str), 0, inputfile_title[2]),\n",
    "                                     numpy.insert(rh_30min.astype(str), 0, inputfile_title[3]),\n",
    "                                     numpy.insert(ndvi_30min.astype(str), 0, inputfile_title[4]),\n",
    "                                     numpy.insert(le_30min.astype(str), 0, inputfile_title[5])))\n",
    "    numpy.savetxt(os.path.join(OUTPUT_FOLDER, site_name+'_EC_PL-JPL_inputs'+'.csv'), input_csv_, delimiter=\",\", fmt='%s')"
   ]
  }
 ],
 "metadata": {
  "kernelspec": {
   "display_name": "Python 3",
   "language": "python",
   "name": "python3"
  },
  "language_info": {
   "codemirror_mode": {
    "name": "ipython",
    "version": 3
   },
   "file_extension": ".py",
   "mimetype": "text/x-python",
   "name": "python",
   "nbconvert_exporter": "python",
   "pygments_lexer": "ipython3",
   "version": "3.6.8"
  }
 },
 "nbformat": 4,
 "nbformat_minor": 5
}
