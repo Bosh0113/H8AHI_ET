{
 "cells": [
  {
   "cell_type": "markdown",
   "id": "9433fa03",
   "metadata": {},
   "source": [
    "## Single file demo"
   ]
  },
  {
   "cell_type": "code",
   "execution_count": null,
   "id": "559046f7",
   "metadata": {},
   "outputs": [],
   "source": [
    "import xarray\n",
    "import numpy\n",
    "import matplotlib.pyplot as plt"
   ]
  },
  {
   "cell_type": "code",
   "execution_count": null,
   "id": "907045eb",
   "metadata": {},
   "outputs": [],
   "source": [
    "modis_wv_tif = '/disk2/Data/MYD05_L2_day_GeoTiff/2018/MYD05_L2.A2018001.tif'"
   ]
  },
  {
   "cell_type": "code",
   "execution_count": null,
   "id": "c4a81d10",
   "metadata": {},
   "outputs": [],
   "source": [
    "modis_wv_ds = xarray.open_rasterio(modis_wv_tif)\n",
    "modis_wv_dn = numpy.array(modis_wv_ds[0])\n",
    "modis_wv_v = modis_wv_dn*0.001+0.0 # DN -> ture value"
   ]
  },
  {
   "cell_type": "code",
   "execution_count": null,
   "id": "36c9b5a7",
   "metadata": {},
   "outputs": [],
   "source": [
    "modis_wv_v[modis_wv_dn<0] = numpy.NaN\n",
    "plt.imshow(modis_wv_v, interpolation='None')\n",
    "plt.colorbar()"
   ]
  },
  {
   "cell_type": "code",
   "execution_count": null,
   "id": "620ec3ff",
   "metadata": {},
   "outputs": [],
   "source": [
    "pixel_size= 0.01\n",
    "# TKY site\n",
    "site_loc = (36.146, 137.423) # lat, lon\n",
    "\n",
    "site_lat_idx = int((50.0 - site_loc[0])/pixel_size)\n",
    "site_lon_idx = int((site_loc[1] - 120.0)/pixel_size)"
   ]
  },
  {
   "cell_type": "code",
   "execution_count": null,
   "id": "6f07c16f",
   "metadata": {},
   "outputs": [],
   "source": [
    "modis_wv_v[site_lat_idx][site_lon_idx]"
   ]
  },
  {
   "cell_type": "markdown",
   "id": "3b90200e",
   "metadata": {},
   "source": [
    "## TKY water vapor during 2018"
   ]
  },
  {
   "cell_type": "code",
   "execution_count": null,
   "id": "2637e292",
   "metadata": {},
   "outputs": [],
   "source": [
    "import os\n",
    "import xarray\n",
    "import numpy\n",
    "import matplotlib.pyplot as plt\n",
    "\n",
    "pixel_size= 0.01\n",
    "# TKY site\n",
    "site_loc = (36.146, 137.423) # lat, lon\n",
    "\n",
    "site_lat_idx = int((50.0 - site_loc[0])/pixel_size)\n",
    "site_lon_idx = int((site_loc[1] - 120.0)/pixel_size)\n",
    "\n",
    "def read_tky_wv(modis_wv_tif):\n",
    "    modis_wv_ds = xarray.open_rasterio(modis_wv_tif)\n",
    "    modis_wv_dn = numpy.array(modis_wv_ds[0])\n",
    "    modis_wv_v = modis_wv_dn*0.001+0.0 # DN -> ture value\n",
    "    modis_wv_ds.close()\n",
    "    return modis_wv_v[site_lat_idx][site_lon_idx]"
   ]
  },
  {
   "cell_type": "code",
   "execution_count": null,
   "id": "4b2881af",
   "metadata": {},
   "outputs": [],
   "source": [
    "y_wv = numpy.ones(365,)*-1\n",
    "for d_idx in range(1, 366, 1):\n",
    "    d_idx_str = (3-len(str(d_idx)))*'0' + str(d_idx)\n",
    "    tif_filename = '/disk2/Data/MOD05_L2_day_GeoTiff/2018/MOD05_L2.A2018' + d_idx_str + '.tif'\n",
    "    if os.path.exists(tif_filename):\n",
    "        d_tky_wv = read_tky_wv(tif_filename)\n",
    "        y_wv[d_idx-1] = d_tky_wv"
   ]
  },
  {
   "cell_type": "code",
   "execution_count": null,
   "id": "cd613c37",
   "metadata": {},
   "outputs": [],
   "source": [
    "y_wv[y_wv<0]=numpy.NaN\n",
    "plt.figure(figsize=(14,7))\n",
    "plt.plot(y_wv, '.')\n",
    "plt.plot(y_wv)\n",
    "plt.title('TKY Site: MOD05L2 Total Precipitable Water')\n",
    "plt.xlabel('Day of year')\n",
    "plt.ylabel('Atmospheric total column water vapor (cm)')"
   ]
  }
 ],
 "metadata": {
  "kernelspec": {
   "display_name": "Python 3",
   "language": "python",
   "name": "python3"
  },
  "language_info": {
   "codemirror_mode": {
    "name": "ipython",
    "version": 3
   },
   "file_extension": ".py",
   "mimetype": "text/x-python",
   "name": "python",
   "nbconvert_exporter": "python",
   "pygments_lexer": "ipython3",
   "version": "3.6.8"
  }
 },
 "nbformat": 4,
 "nbformat_minor": 5
}
