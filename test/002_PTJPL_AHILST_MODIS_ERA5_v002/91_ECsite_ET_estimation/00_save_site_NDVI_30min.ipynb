{
 "cells": [
  {
   "cell_type": "code",
   "execution_count": 2,
   "id": "acbe0b30",
   "metadata": {},
   "outputs": [],
   "source": [
    "import os\n",
    "import numpy"
   ]
  },
  {
   "cell_type": "code",
   "execution_count": 3,
   "id": "55fc5754",
   "metadata": {},
   "outputs": [],
   "source": [
    "def read_site_10min_timelist(csv_filename):\n",
    "    csv_data = numpy.genfromtxt(csv_filename, delimiter=',', dtype=str)\n",
    "    timelist_10min = csv_data[:, 0]\n",
    "    return timelist_10min\n",
    "\n",
    "\n",
    "def daily_to_30min(daily_v):\n",
    "    tenmin_v = numpy.repeat(daily_v, 24*2)\n",
    "    return tenmin_v"
   ]
  },
  {
   "cell_type": "code",
   "execution_count": 4,
   "id": "cff273be",
   "metadata": {},
   "outputs": [],
   "source": [
    "NPY_FOLDER = '/disk2/workspace/20231123'"
   ]
  },
  {
   "cell_type": "code",
   "execution_count": 5,
   "id": "3d5d6fdb",
   "metadata": {},
   "outputs": [],
   "source": [
    "for site_name in ['TKY','CRK', 'GCK', 'GDK']:\n",
    "    npy_filename = os.path.join(NPY_FOLDER, site_name + '_NDVI.npy')\n",
    "    site_NDVI = numpy.load(npy_filename)\n",
    "\n",
    "    ndvi_30min = daily_to_30min(site_NDVI)\n",
    "\n",
    "    timelist_2year = read_site_10min_timelist('/disk2/Data/FluxSite4ET/CRK_AMATERASS_Rsd.csv')\n",
    "    timelist_2year_30min = timelist_2year[::3]\n",
    "    ndvi_record = ndvi_30min.astype(str)\n",
    "    ndvi_csv_ = numpy.column_stack((timelist_2year_30min, ndvi_record))\n",
    "    numpy.savetxt(os.path.join('/disk2/workspace/20240109', site_name + '_NDVI_LI_30min.csv'), ndvi_csv_, delimiter=\",\", fmt='%s')"
   ]
  }
 ],
 "metadata": {
  "kernelspec": {
   "display_name": "Python 3",
   "language": "python",
   "name": "python3"
  },
  "language_info": {
   "codemirror_mode": {
    "name": "ipython",
    "version": 3
   },
   "file_extension": ".py",
   "mimetype": "text/x-python",
   "name": "python",
   "nbconvert_exporter": "python",
   "pygments_lexer": "ipython3",
   "version": "3.6.8"
  }
 },
 "nbformat": 4,
 "nbformat_minor": 5
}
