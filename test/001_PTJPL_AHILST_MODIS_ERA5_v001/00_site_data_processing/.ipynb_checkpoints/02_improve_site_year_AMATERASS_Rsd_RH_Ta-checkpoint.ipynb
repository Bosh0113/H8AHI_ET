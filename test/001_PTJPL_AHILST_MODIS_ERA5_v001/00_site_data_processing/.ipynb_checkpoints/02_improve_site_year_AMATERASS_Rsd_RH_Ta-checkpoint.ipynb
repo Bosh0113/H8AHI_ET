{
 "cells": [
  {
   "cell_type": "code",
   "execution_count": 1,
   "id": "7ccaee24",
   "metadata": {},
   "outputs": [],
   "source": [
    "import numpy\n",
    "from scipy.interpolate import interp1d\n",
    "import matplotlib.pyplot as plt"
   ]
  },
  {
   "cell_type": "code",
   "execution_count": 2,
   "id": "c2f817b0",
   "metadata": {},
   "outputs": [],
   "source": [
    "def read_site_data(csv_filename):\n",
    "    csv_data = numpy.genfromtxt(csv_filename, delimiter=',', dtype=str)\n",
    "    data_10min = csv_data[:, 1]\n",
    "    data_10min = data_10min.astype(float)\n",
    "    \n",
    "    valid_indices = numpy.where(~numpy.isnan(data_10min))[0]\n",
    "    valid_values = data_10min[valid_indices]\n",
    "    interpolator = interp1d(valid_indices, valid_values, kind='nearest', fill_value='extrapolate')\n",
    "    data_10min_imp = interpolator(numpy.arange(len(data_10min)))\n",
    "    \n",
    "    csv_data[:, 1] = data_10min_imp\n",
    "    return csv_data"
   ]
  },
  {
   "cell_type": "code",
   "execution_count": 4,
   "id": "5f25147f",
   "metadata": {},
   "outputs": [],
   "source": [
    "for site_name in ['TKY','CRK', 'GCK', 'GDK']:\n",
    "    RH_SITE_CSV = '/disk2/Data/FluxSite4ET/original/' + site_name + '_AMATERASS_Rsd.csv'\n",
    "    csv_data_imp = read_site_data(Rsd_SITE_CSV)\n",
    "    numpy.savetxt('/disk2/Data/FluxSite4ET/' + site_name + '_AMATERASS_Rsd.csv', csv_data_imp, delimiter=\",\", fmt='%s')"
   ]
  },
  {
   "cell_type": "code",
   "execution_count": 4,
   "id": "13101703",
   "metadata": {},
   "outputs": [],
   "source": [
    "for site_name in ['TKY','CRK', 'GCK', 'GDK']:\n",
    "    Rsd_SITE_CSV = '/disk2/Data/FluxSite4ET/original/' + site_name + '_AMATERASS_Rsd.csv'\n",
    "    csv_data_imp = read_site_data(Rsd_SITE_CSV)\n",
    "    numpy.savetxt('/disk2/Data/FluxSite4ET/' + site_name + '_AMATERASS_Rsd.csv', csv_data_imp, delimiter=\",\", fmt='%s')"
   ]
  },
  {
   "cell_type": "code",
   "execution_count": 4,
   "id": "9da13405",
   "metadata": {},
   "outputs": [],
   "source": [
    "for site_name in ['TKY','CRK', 'GCK', 'GDK']:\n",
    "    Rsd_SITE_CSV = '/disk2/Data/FluxSite4ET/original/' + site_name + '_AMATERASS_Rsd.csv'\n",
    "    csv_data_imp = read_site_data(Rsd_SITE_CSV)\n",
    "    numpy.savetxt('/disk2/Data/FluxSite4ET/' + site_name + '_AMATERASS_Rsd.csv', csv_data_imp, delimiter=\",\", fmt='%s')"
   ]
  }
 ],
 "metadata": {
  "kernelspec": {
   "display_name": "Python 3",
   "language": "python",
   "name": "python3"
  },
  "language_info": {
   "codemirror_mode": {
    "name": "ipython",
    "version": 3
   },
   "file_extension": ".py",
   "mimetype": "text/x-python",
   "name": "python",
   "nbconvert_exporter": "python",
   "pygments_lexer": "ipython3",
   "version": "3.6.8"
  }
 },
 "nbformat": 4,
 "nbformat_minor": 5
}
