{
 "cells": [
  {
   "cell_type": "code",
   "execution_count": 4,
   "id": "7ccaee24",
   "metadata": {},
   "outputs": [],
   "source": [
    "import os\n",
    "import numpy\n",
    "from scipy.interpolate import interp1d\n",
    "import matplotlib.pyplot as plt"
   ]
  },
  {
   "cell_type": "code",
   "execution_count": 2,
   "id": "c2f817b0",
   "metadata": {},
   "outputs": [],
   "source": [
    "def read_site_csv(csv_filename):\n",
    "    csv_data = numpy.genfromtxt(csv_filename, delimiter=',', dtype=str)\n",
    "    csv_v = csv_data[:, 1]\n",
    "    csv_v = csv_v.astype(float)\n",
    "    return csv_data[:, 0], csv_v\n",
    "\n",
    "\n",
    "def read_site_10min_timelist(csv_filename):\n",
    "    csv_data = numpy.genfromtxt(csv_filename, delimiter=',', dtype=str)\n",
    "    timelist_10min = csv_data[:, 0]\n",
    "    return timelist_10min\n",
    "\n",
    "\n",
    "def hourly_to_10min(hourly_v):\n",
    "    tenmin_v = numpy.repeat(hourly_v, 6)\n",
    "    return tenmin_v"
   ]
  },
  {
   "cell_type": "code",
   "execution_count": 5,
   "id": "5f25147f",
   "metadata": {},
   "outputs": [],
   "source": [
    "for site_name in ['TKY','CRK', 'GCK', 'GDK']:\n",
    "    ERA5_SITE_CSV = '/disk2/Data/FluxSite4ET/' + site_name + '_ERA5_Rld.csv'\n",
    "    era5_timelist, era5_hourly = read_site_csv(ERA5_SITE_CSV)\n",
    "    era5_10min = hourly_to_10min(era5_hourly)\n",
    "    \n",
    "    timelist_2year = read_site_10min_timelist('/disk2/Data/FluxSite4ET/CRK_AMATERASS_Rsd.csv')\n",
    "    era5_record = era5_10min.astype(str)\n",
    "    era5_csv_ = numpy.column_stack((timelist_2year, era5_record))\n",
    "    numpy.savetxt(os.path.join('/disk2/Data/FluxSite4ET', site_name + '_ERA5_Rld_10min.csv'), era5_csv_, delimiter=\",\", fmt='%s')"
   ]
  }
 ],
 "metadata": {
  "kernelspec": {
   "display_name": "Python 3",
   "language": "python",
   "name": "python3"
  },
  "language_info": {
   "codemirror_mode": {
    "name": "ipython",
    "version": 3
   },
   "file_extension": ".py",
   "mimetype": "text/x-python",
   "name": "python",
   "nbconvert_exporter": "python",
   "pygments_lexer": "ipython3",
   "version": "3.6.8"
  }
 },
 "nbformat": 4,
 "nbformat_minor": 5
}
