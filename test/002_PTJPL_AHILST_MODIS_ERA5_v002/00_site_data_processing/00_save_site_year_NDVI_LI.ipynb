{
 "cells": [
  {
   "cell_type": "code",
   "execution_count": 7,
   "id": "64917338",
   "metadata": {},
   "outputs": [],
   "source": [
    "import os\n",
    "import numpy"
   ]
  },
  {
   "cell_type": "code",
   "execution_count": 8,
   "id": "a23cf9b5",
   "metadata": {},
   "outputs": [],
   "source": [
    "def read_site_10min_timelist(csv_filename):\n",
    "    csv_data = numpy.genfromtxt(csv_filename, delimiter=',', dtype=str)\n",
    "    timelist_10min = csv_data[:, 0]\n",
    "    return timelist_10min\n",
    "\n",
    "\n",
    "def daily_to_10min(daily_v):\n",
    "    tenmin_v = numpy.repeat(daily_v, 24*6)\n",
    "    return tenmin_v"
   ]
  },
  {
   "cell_type": "code",
   "execution_count": 12,
   "id": "6354fb17",
   "metadata": {},
   "outputs": [],
   "source": [
    "NPY_FOLDER = '/disk2/workspace/20231123'"
   ]
  },
  {
   "cell_type": "code",
   "execution_count": 13,
   "id": "723cdf16",
   "metadata": {},
   "outputs": [],
   "source": [
    "for site_name in ['TKY','CRK', 'GCK', 'GDK']:\n",
    "    npy_filename = os.path.join(NPY_FOLDER, site_name + '_NDVI.npy')\n",
    "    site_NDVI = numpy.load(npy_filename)\n",
    "\n",
    "    ndvi_10min = daily_to_10min(site_NDVI)\n",
    "\n",
    "    timelist_2year = read_site_10min_timelist('/disk2/Data/FluxSite4ET/CRK_AMATERASS_Rsd.csv')\n",
    "    ndvi_record = ndvi_10min.astype(str)\n",
    "    ndvi_csv_ = numpy.column_stack((timelist_2year, ndvi_record))\n",
    "    numpy.savetxt(os.path.join('/disk2/workspace/20231122', site_name + '_NDVI_LI_10min.csv'), ndvi_csv_, delimiter=\",\", fmt='%s')"
   ]
  }
 ],
 "metadata": {
  "kernelspec": {
   "display_name": "Python 3",
   "language": "python",
   "name": "python3"
  },
  "language_info": {
   "codemirror_mode": {
    "name": "ipython",
    "version": 3
   },
   "file_extension": ".py",
   "mimetype": "text/x-python",
   "name": "python",
   "nbconvert_exporter": "python",
   "pygments_lexer": "ipython3",
   "version": "3.6.8"
  }
 },
 "nbformat": 4,
 "nbformat_minor": 5
}
