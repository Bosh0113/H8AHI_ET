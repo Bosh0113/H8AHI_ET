{
 "cells": [
  {
   "cell_type": "code",
   "execution_count": 1,
   "id": "2a775ffd",
   "metadata": {},
   "outputs": [],
   "source": [
    "import os\n",
    "import numpy\n",
    "import matplotlib.pyplot as plt"
   ]
  },
  {
   "cell_type": "code",
   "execution_count": 10,
   "id": "8ac1cdd7",
   "metadata": {},
   "outputs": [],
   "source": [
    "pixel_resolution = 0.01\n",
    "# MCD12Q1 labels\n",
    "lc_labels = [\n",
    "    'Water', 'Evergreen Needleleaf Forest', 'Evergreen Broadleaf Forest', 'Deciduous Needleleaf Forest', 'Deciduous Broadleaf Forest', 'Mixed Forests', 'Closed Shrublands', 'Open Shrublands', 'Woody Savannas', 'Savannas', 'Grasslands',\n",
    "    'Permanent Wetlands', 'Croplands', 'Urban and Built-Up', 'Cropland/Natual Vegation', 'Snow and Ice', 'Barren'\n",
    "]"
   ]
  },
  {
   "cell_type": "code",
   "execution_count": 2,
   "id": "36892f6f",
   "metadata": {},
   "outputs": [],
   "source": [
    "mcd12q1_1km_npy = '/disk2/workspace/20240316/MCD12Q1.006.LC.AHI01km.npy'"
   ]
  },
  {
   "cell_type": "code",
   "execution_count": 4,
   "id": "4bbe1083",
   "metadata": {},
   "outputs": [],
   "source": [
    "site_infos = [['CLC', 44.59666667, 123.4702778],\\\n",
    "              ['JRC', 31.80683056, 119.2172639],\\\n",
    "              ['PDC', 26.6, 106.3166667],\\\n",
    "              ['PJC', 40.94138889, 121.9602778],\\\n",
    "              ['PJW', 40.932725, 121.9645917],\\\n",
    "              ['HZF', 51.78111111, 121.0177778],\\\n",
    "              ['ZAG', 32.8, 102.55],\\\n",
    "              ['DBB', 41.64397222, 110.3314722],\\\n",
    "              ['HBG', 37.61666667, 101.3166667],\\\n",
    "              ['HBS', 37.61666667, 101.3166667],\\\n",
    "              ['MPM', 22.4982, 114.0292],\\\n",
    "              ['BBY', 43.323, 141.8107],\\\n",
    "              ['TKY', 36.14616667, 137.4231111],\\\n",
    "              ['CRK', 38.20138889, 127.2505556],\\\n",
    "              ['GCK', 37.74833333, 127.1622222],\\\n",
    "              ['GDK', 37.74888889, 127.1491667],\\\n",
    "              ['SIP', 0.395204167, 102.7645506],\\\n",
    "              ['SDP', 0.699491389, 102.793305],\\\n",
    "              ['ASM', -22.2828, 133.2493],\\\n",
    "              ['CPW', -33.6152, 150.7236],\\\n",
    "              ['WAR', -43.095, 146.6545]]"
   ]
  },
  {
   "cell_type": "code",
   "execution_count": 8,
   "id": "895c9f5f",
   "metadata": {},
   "outputs": [],
   "source": [
    "mcd12q1_ahi = numpy.load(mcd12q1_1km_npy)"
   ]
  },
  {
   "cell_type": "code",
   "execution_count": 11,
   "id": "e05d4b66",
   "metadata": {},
   "outputs": [
    {
     "name": "stdout",
     "output_type": "stream",
     "text": [
      "CLC Grasslands\n",
      "JRC Croplands\n",
      "PDC Savannas\n",
      "PJC Grasslands\n",
      "PJW Croplands\n",
      "HZF Woody Savannas\n",
      "ZAG Grasslands\n",
      "DBB Grasslands\n",
      "HBG Grasslands\n",
      "HBS Grasslands\n",
      "MPM Permanent Wetlands\n",
      "BBY Croplands\n",
      "TKY Deciduous Broadleaf Forest\n",
      "CRK Croplands\n",
      "GCK Mixed Forests\n",
      "GDK Deciduous Broadleaf Forest\n",
      "SIP Evergreen Broadleaf Forest\n",
      "SDP Evergreen Broadleaf Forest\n",
      "ASM Closed Shrublands\n",
      "CPW Evergreen Broadleaf Forest\n",
      "WAR Evergreen Broadleaf Forest\n"
     ]
    }
   ],
   "source": [
    "for site_info in site_infos:\n",
    "    site_name = site_info[0]\n",
    "    lat = site_info[1]\n",
    "    lon = site_info[2]\n",
    "    lat_idx = int((60-lat)/pixel_resolution)\n",
    "    lon_idx = int((lon-85)/pixel_resolution)\n",
    "    lc_v = mcd12q1_ahi[lat_idx][lon_idx]\n",
    "    print(site_name, lc_labels[lc_v])"
   ]
  }
 ],
 "metadata": {
  "kernelspec": {
   "display_name": "Python 3",
   "language": "python",
   "name": "python3"
  },
  "language_info": {
   "codemirror_mode": {
    "name": "ipython",
    "version": 3
   },
   "file_extension": ".py",
   "mimetype": "text/x-python",
   "name": "python",
   "nbconvert_exporter": "python",
   "pygments_lexer": "ipython3",
   "version": "3.6.8"
  }
 },
 "nbformat": 4,
 "nbformat_minor": 5
}
