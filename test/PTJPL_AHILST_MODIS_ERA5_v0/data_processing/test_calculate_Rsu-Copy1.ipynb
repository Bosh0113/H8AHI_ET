{
 "cells": [
  {
   "cell_type": "markdown",
   "id": "5c1c4c33",
   "metadata": {},
   "source": [
    "## Calculate upwelling longwave radiation"
   ]
  },
  {
   "cell_type": "markdown",
   "id": "234f605b",
   "metadata": {},
   "source": [
    "#### R<sub>LU</sub> = 𝜎𝜀<sub>S</sub>𝑇<sub>S</sub><sup>4</sup>\n",
    "\n",
    "𝜎 is 5.67 × 10<sup>-8</sup> J s<sup>-1</sup> m<sup>-2</sup> K<sup>-4</sup><br>\n",
    "𝜀<sub>S</sub> is Emissivity from MOD11L2<br>\n",
    "𝑇<sub>S</sub> is AHI LST"
   ]
  },
  {
   "cell_type": "code",
   "execution_count": null,
   "id": "b9b4720a",
   "metadata": {},
   "outputs": [],
   "source": [
    "# date time: UTC 2018-08-01 03:00:00\n",
    "rsd_filename = ''"
   ]
  }
 ],
 "metadata": {
  "kernelspec": {
   "display_name": "Python 3",
   "language": "python",
   "name": "python3"
  },
  "language_info": {
   "codemirror_mode": {
    "name": "ipython",
    "version": 3
   },
   "file_extension": ".py",
   "mimetype": "text/x-python",
   "name": "python",
   "nbconvert_exporter": "python",
   "pygments_lexer": "ipython3",
   "version": "3.6.8"
  }
 },
 "nbformat": 4,
 "nbformat_minor": 5
}
