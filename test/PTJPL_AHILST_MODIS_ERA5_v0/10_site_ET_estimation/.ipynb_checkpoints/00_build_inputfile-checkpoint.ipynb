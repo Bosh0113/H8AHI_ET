{
 "cells": [
  {
   "cell_type": "code",
   "execution_count": null,
   "id": "2ab3cf24",
   "metadata": {},
   "outputs": [],
   "source": [
    "import numpy"
   ]
  },
  {
   "cell_type": "code",
   "execution_count": null,
   "id": "10d628dc",
   "metadata": {},
   "outputs": [],
   "source": [
    "def read_site_csv(csv_filename):\n",
    "    csv_data = numpy.genfromtxt(csv_filename, delimiter=',', dtype=str)\n",
    "    csv_v = csv_data[:, 1]\n",
    "    csv_v = csv_v.astype(float)\n",
    "    return csv_data[:, 0], csv_v"
   ]
  },
  {
   "cell_type": "code",
   "execution_count": null,
   "id": "dff7fa18",
   "metadata": {},
   "outputs": [],
   "source": [
    "inputfile_title = ['Time', 'NETRAD', 'NETRAD_day', 'TA', 'TA_day_mean', 'TA_day_max', 'RH_hour_min', 'NDVI_day_mean']\n",
    "# demo: 2018/7/19 3:00, (K)...(%)..."
   ]
  },
  {
   "cell_type": "code",
   "execution_count": null,
   "id": "20add498",
   "metadata": {},
   "outputs": [],
   "source": []
  }
 ],
 "metadata": {
  "kernelspec": {
   "display_name": "Python 3",
   "language": "python",
   "name": "python3"
  },
  "language_info": {
   "codemirror_mode": {
    "name": "ipython",
    "version": 3
   },
   "file_extension": ".py",
   "mimetype": "text/x-python",
   "name": "python",
   "nbconvert_exporter": "python",
   "pygments_lexer": "ipython3",
   "version": "3.6.8"
  }
 },
 "nbformat": 4,
 "nbformat_minor": 5
}
