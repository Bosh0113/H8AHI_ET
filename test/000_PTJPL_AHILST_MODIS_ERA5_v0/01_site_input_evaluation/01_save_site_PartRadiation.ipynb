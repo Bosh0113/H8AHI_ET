{
 "cells": [
  {
   "cell_type": "code",
   "execution_count": 1,
   "id": "436d7229",
   "metadata": {},
   "outputs": [],
   "source": [
    "import os\n",
    "import numpy\n",
    "import csv\n",
    "import pandas as pd\n",
    "import matplotlib.pyplot as plt"
   ]
  },
  {
   "cell_type": "code",
   "execution_count": 2,
   "id": "63e774cf",
   "metadata": {},
   "outputs": [],
   "source": [
    "def read_site_10min_timelist(csv_filename):\n",
    "    csv_data = numpy.genfromtxt(csv_filename, delimiter=',', dtype=str)\n",
    "    timelist_10min = csv_data[:, 0]\n",
    "    return timelist_10min\n",
    "\n",
    "\n",
    "def half_hour_to_10min_by_nan(arr_half_hour):\n",
    "    new_len = 3 * len(arr_half_hour)\n",
    "    arr_10min = numpy.full(new_len, numpy.nan)\n",
    "    arr_10min[::3] = arr_half_hour\n",
    "    return arr_10min"
   ]
  },
  {
   "cell_type": "markdown",
   "id": "321c6ff1",
   "metadata": {},
   "source": [
    "## CRK"
   ]
  },
  {
   "cell_type": "code",
   "execution_count": 3,
   "id": "6f3893d1",
   "metadata": {},
   "outputs": [],
   "source": [
    "SITE_CSV = '/disk2/Data/FluxSite4ET/validation/CRK_2018_2019_L2.csv'\n",
    "csv_data = numpy.genfromtxt(SITE_CSV, delimiter=',', dtype=str)\n",
    "rsd_data = csv_data[:,1][1:].astype(float)\n",
    "rsu_data = csv_data[:,2][1:].astype(float)\n",
    "rld_data = csv_data[:,3][1:].astype(float)\n",
    "rlu_data = csv_data[:,4][1:].astype(float)\n",
    "\n",
    "rsd_10min = half_hour_to_10min_by_nan(rsd_data)\n",
    "rsu_10min = half_hour_to_10min_by_nan(rsu_data)\n",
    "rld_10min = half_hour_to_10min_by_nan(rld_data)\n",
    "rlu_10min = half_hour_to_10min_by_nan(rlu_data)\n",
    "\n",
    "timelist_2year = read_site_10min_timelist('/disk2/Data/FluxSite4ET/CRK_AMATERASS_Rsd.csv')\n",
    "r_net_csv_ = numpy.column_stack((timelist_2year, rsd_10min.astype(str), rsu_10min.astype(str), rld_10min.astype(str), rlu_10min.astype(str)))\n",
    "numpy.savetxt(os.path.join('/disk2/Data/FluxSite4ET/validation', 'CRK_2018_2019_Radiation.csv'), r_net_csv_, delimiter=\",\", fmt='%s')"
   ]
  },
  {
   "cell_type": "markdown",
   "id": "82cbf166",
   "metadata": {},
   "source": [
    "## GCK"
   ]
  },
  {
   "cell_type": "code",
   "execution_count": 4,
   "id": "abf7aee0",
   "metadata": {},
   "outputs": [],
   "source": [
    "SITE_CSV = '/disk2/Data/FluxSite4ET/validation/GCK_2018_2019_L2.csv'\n",
    "csv_data = numpy.genfromtxt(SITE_CSV, delimiter=',', dtype=str)\n",
    "rsd_data = csv_data[:,1][1:].astype(float)\n",
    "rsu_data = csv_data[:,2][1:].astype(float)\n",
    "rld_data = csv_data[:,3][1:].astype(float)\n",
    "rlu_data = csv_data[:,4][1:].astype(float)\n",
    "\n",
    "rsd_10min = half_hour_to_10min_by_nan(rsd_data)\n",
    "rsu_10min = half_hour_to_10min_by_nan(rsu_data)\n",
    "rld_10min = half_hour_to_10min_by_nan(rld_data)\n",
    "rlu_10min = half_hour_to_10min_by_nan(rlu_data)\n",
    "\n",
    "timelist_2year = read_site_10min_timelist('/disk2/Data/FluxSite4ET/CRK_AMATERASS_Rsd.csv')\n",
    "r_net_csv_ = numpy.column_stack((timelist_2year, rsd_10min.astype(str), rsu_10min.astype(str), rld_10min.astype(str), rlu_10min.astype(str)))\n",
    "numpy.savetxt(os.path.join('/disk2/Data/FluxSite4ET/validation', 'GCK_2018_2019_Radiation.csv'), r_net_csv_, delimiter=\",\", fmt='%s')"
   ]
  },
  {
   "cell_type": "markdown",
   "id": "1a3e532a",
   "metadata": {},
   "source": [
    "## GDK"
   ]
  },
  {
   "cell_type": "code",
   "execution_count": 5,
   "id": "d068c459",
   "metadata": {},
   "outputs": [],
   "source": [
    "SITE_CSV = '/disk2/Data/FluxSite4ET/validation/GDK_2018_2019_L2.csv'\n",
    "csv_data = numpy.genfromtxt(SITE_CSV, delimiter=',', dtype=str)\n",
    "rsd_data = csv_data[:,1][1:].astype(float)\n",
    "rsu_data = csv_data[:,2][1:].astype(float)\n",
    "rld_data = csv_data[:,3][1:].astype(float)\n",
    "rlu_data = csv_data[:,4][1:].astype(float)\n",
    "\n",
    "rsd_10min = half_hour_to_10min_by_nan(rsd_data)\n",
    "rsu_10min = half_hour_to_10min_by_nan(rsu_data)\n",
    "rld_10min = half_hour_to_10min_by_nan(rld_data)\n",
    "rlu_10min = half_hour_to_10min_by_nan(rlu_data)\n",
    "\n",
    "timelist_2year = read_site_10min_timelist('/disk2/Data/FluxSite4ET/CRK_AMATERASS_Rsd.csv')\n",
    "r_net_csv_ = numpy.column_stack((timelist_2year, rsd_10min.astype(str), rsu_10min.astype(str), rld_10min.astype(str), rlu_10min.astype(str)))\n",
    "numpy.savetxt(os.path.join('/disk2/Data/FluxSite4ET/validation', 'GDK_2018_2019_Radiation.csv'), r_net_csv_, delimiter=\",\", fmt='%s')"
   ]
  },
  {
   "cell_type": "markdown",
   "id": "cfd67032",
   "metadata": {},
   "source": [
    "## TKY"
   ]
  },
  {
   "cell_type": "code",
   "execution_count": 7,
   "id": "25e6668d",
   "metadata": {},
   "outputs": [],
   "source": [
    "SITE_CSV = '/disk2/Data/FluxSite4ET/validation/TKY_2018.csv'\n",
    "csv_data = numpy.genfromtxt(SITE_CSV, delimiter=',', dtype=str)\n",
    "rsd_data = csv_data[:,3][1:].astype(float)\n",
    "rsu_data = csv_data[:,4][1:].astype(float)\n",
    "rld_data = csv_data[:,5][1:].astype(float)\n",
    "rlu_data = csv_data[:,6][1:].astype(float)\n",
    "\n",
    "rsd_10min = half_hour_to_10min_by_nan(rsd_data)\n",
    "rsu_10min = half_hour_to_10min_by_nan(rsu_data)\n",
    "rld_10min = half_hour_to_10min_by_nan(rld_data)\n",
    "rlu_10min = half_hour_to_10min_by_nan(rlu_data)\n",
    "\n",
    "nan_10min = numpy.full(len(rsd_10min), numpy.nan)\n",
    "rsd_10min_2y = numpy.concatenate((rsd_10min, nan_10min))\n",
    "rsu_10min_2y = numpy.concatenate((rsu_10min, nan_10min))\n",
    "rld_10min_2y = numpy.concatenate((rld_10min, nan_10min))\n",
    "rlu_10min_2y = numpy.concatenate((rlu_10min, nan_10min))\n",
    "\n",
    "timelist_2year = read_site_10min_timelist('/disk2/Data/FluxSite4ET/CRK_AMATERASS_Rsd.csv')\n",
    "r_net_csv_ = numpy.column_stack((timelist_2year, rsd_10min_2y.astype(str), rsu_10min_2y.astype(str), rld_10min_2y.astype(str), rlu_10min_2y.astype(str)))\n",
    "numpy.savetxt(os.path.join('/disk2/Data/FluxSite4ET/validation', 'TKY_2018_2019_Radiation.csv'), r_net_csv_, delimiter=\",\", fmt='%s')"
   ]
  }
 ],
 "metadata": {
  "kernelspec": {
   "display_name": "Python 3",
   "language": "python",
   "name": "python3"
  },
  "language_info": {
   "codemirror_mode": {
    "name": "ipython",
    "version": 3
   },
   "file_extension": ".py",
   "mimetype": "text/x-python",
   "name": "python",
   "nbconvert_exporter": "python",
   "pygments_lexer": "ipython3",
   "version": "3.6.8"
  }
 },
 "nbformat": 4,
 "nbformat_minor": 5
}
