{
 "cells": [
  {
   "cell_type": "markdown",
   "metadata": {},
   "source": [
    "# PTJPL for point forcing datasets\n",
    "***************************************************************\n",
    "    Input variables within DATAFRAME:     \n",
    "        net_radiation: instantaneous net radiation in (W/m2)\n",
    "        RH: relative humidity(%)\n",
    "        air_temperature: air temperature near the surface (K) \n",
    "        ndvi_mean: average Normalized Difference Vegetation Index for day\n",
    "        \n",
    "    Returned:\n",
    "        A dataset is returned from this script containing the following variables:\n",
    "        evapotranspiration: total evapotranspiration (W/m2)\n",
    "        interception_evaporation: intercepted evaporation (W/m2) \n",
    "        soil_evaporation: evaporation from soil (W/m2)\n",
    "        canopy_transpiration: transpiration from canopy (W/m2)                       \n",
    "        potential_evapotranspiration: potential evapotranspiration (W/m2)\n",
    "        \n",
    "***************************************************************\n"
   ]
  },
  {
   "cell_type": "code",
   "execution_count": 4,
   "metadata": {},
   "outputs": [],
   "source": [
    "import numpy as np\n",
    "import os\n",
    "import pandas as pd\n",
    "# ----------------------- MODEL IS IN THE LIBRARY REFERENCED HERE ---------------------- \n",
    "from ptjpl_ecostress import *\n",
    "# ----------------------------- NOTEBOOK SPECIFIC COMMANDS ----------------------------- \n",
    "# % matplotlib inline\n",
    "# from IPython.core.display import display, HTML\n",
    "# display(HTML(\"<style>.container { width:90% !important; }</style>\"))"
   ]
  },
  {
   "cell_type": "code",
   "execution_count": 5,
   "metadata": {},
   "outputs": [],
   "source": [
    "# FILE PATHWAYS\n",
    "data_path = '/disk2/workspace/20231125'"
   ]
  },
  {
   "cell_type": "code",
   "execution_count": 6,
   "metadata": {},
   "outputs": [
    {
     "name": "stdout",
     "output_type": "stream",
     "text": [
      "calculating surface wetness values [%]\n",
      "calculating vapor pressure deficit [kPa]\n",
      "calculating vegetation values\n",
      "calculating plant optimum temperature\n",
      "18.213323640872932 C\n",
      "calculating soil evaporation\n",
      "calculating canopy transpiration\n",
      "calculating interception evaporation\n",
      "combining evapotranspiration\n",
      "calculating potential evapotranspiration\n",
      "calculating surface wetness values [%]\n",
      "calculating vapor pressure deficit [kPa]\n",
      "calculating vegetation values\n",
      "calculating plant optimum temperature\n",
      "23.00767007936514 C\n",
      "calculating soil evaporation\n",
      "calculating canopy transpiration\n",
      "calculating interception evaporation\n",
      "combining evapotranspiration\n",
      "calculating potential evapotranspiration\n",
      "calculating surface wetness values [%]\n",
      "calculating vapor pressure deficit [kPa]\n",
      "calculating vegetation values\n",
      "calculating plant optimum temperature\n",
      "23.535548804563618 C\n",
      "calculating soil evaporation\n",
      "calculating canopy transpiration\n",
      "calculating interception evaporation\n",
      "combining evapotranspiration\n",
      "calculating potential evapotranspiration\n",
      "calculating surface wetness values [%]\n",
      "calculating vapor pressure deficit [kPa]\n",
      "calculating vegetation values\n",
      "calculating plant optimum temperature\n",
      "23.5704301736113 C\n",
      "calculating soil evaporation\n",
      "calculating canopy transpiration\n",
      "calculating interception evaporation\n",
      "combining evapotranspiration\n",
      "calculating potential evapotranspiration\n"
     ]
    }
   ],
   "source": [
    "site_names = ['TKY', 'CRK', 'GCK', 'GDK']\n",
    "\n",
    "for i, site_name in enumerate(site_names):\n",
    "    datMMS = pd.read_csv(os.path.join(data_path, site_name+'_PL-JPL_inputs.csv'))\n",
    "    df_MMS = datMMS.set_index('Time')\n",
    "\n",
    "    df_model_MMS = ptjpl(df_MMS)\n",
    "\n",
    "    df_model_MMS.to_csv(os.path.join(data_path, site_name+'_PL-JPL_outputs.csv'), index=True)"
   ]
  }
 ],
 "metadata": {
  "anaconda-cloud": {},
  "kernelspec": {
   "display_name": "Python 3",
   "language": "python",
   "name": "python3"
  },
  "language_info": {
   "codemirror_mode": {
    "name": "ipython",
    "version": 3
   },
   "file_extension": ".py",
   "mimetype": "text/x-python",
   "name": "python",
   "nbconvert_exporter": "python",
   "pygments_lexer": "ipython3",
   "version": "3.6.8"
  }
 },
 "nbformat": 4,
 "nbformat_minor": 1
}
