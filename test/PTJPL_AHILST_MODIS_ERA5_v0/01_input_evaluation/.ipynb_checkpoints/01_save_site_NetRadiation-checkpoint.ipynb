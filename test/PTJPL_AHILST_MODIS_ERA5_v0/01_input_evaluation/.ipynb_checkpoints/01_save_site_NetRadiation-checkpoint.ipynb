{
 "cells": [
  {
   "cell_type": "code",
   "execution_count": 20,
   "id": "436d7229",
   "metadata": {},
   "outputs": [],
   "source": [
    "import os\n",
    "import numpy\n",
    "import csv\n",
    "import pandas as pd\n",
    "import matplotlib.pyplot as plt"
   ]
  },
  {
   "cell_type": "code",
   "execution_count": 21,
   "id": "63e774cf",
   "metadata": {},
   "outputs": [],
   "source": [
    "def read_site_10min_timelist(csv_filename):\n",
    "    csv_data = numpy.genfromtxt(csv_filename, delimiter=',', dtype=str)\n",
    "    timelist_10min = csv_data[:, 0]\n",
    "    return timelist_10min\n",
    "\n",
    "\n",
    "def half_hour_to_10min_by_nan(arr_half_hour):\n",
    "    new_len = 3 * len(arr_half_hour)\n",
    "    arr_10min = numpy.full(new_len, numpy.nan)\n",
    "    arr_10min[::3] = arr_half_hour\n",
    "    return arr_10min\n",
    "\n",
    "\n",
    "def calculate_r_net(r_sd, r_su, r_ld, r_lu):\n",
    "    r_net = (r_sd - r_su) + (r_ld - r_lu)\n",
    "    return r_net"
   ]
  },
  {
   "cell_type": "markdown",
   "id": "321c6ff1",
   "metadata": {},
   "source": [
    "## CRK"
   ]
  },
  {
   "cell_type": "code",
   "execution_count": 27,
   "id": "6f3893d1",
   "metadata": {},
   "outputs": [],
   "source": [
    "SITE_CSV = '/disk2/Data/FluxSite4ET/validation/CRK_2018_2019_L2.csv'\n",
    "csv_data = numpy.genfromtxt(SITE_CSV, delimiter=',', dtype=str)\n",
    "r_net_data = calculate_r_net(csv_data[:,1][1:].astype(float), \n",
    "                             csv_data[:,2][1:].astype(float), \n",
    "                             csv_data[:,3][1:].astype(float), \n",
    "                             csv_data[:,4][1:].astype(float))\n",
    "r_net_10min = half_hour_to_10min_by_nan(r_net_data)\n",
    "\n",
    "timelist_2year = read_site_10min_timelist('/disk2/Data/FluxSite4ET/CRK_AMATERASS_Rsd.csv')\n",
    "r_net_record = r_net_10min.astype(str)\n",
    "r_net_csv_ = numpy.column_stack((timelist_2year, r_net_record))\n",
    "numpy.savetxt(os.path.join('/disk2/Data/FluxSite4ET/validation', 'CRK_2018_2019_Rnet.csv'), r_net_csv_, delimiter=\",\", fmt='%s')"
   ]
  },
  {
   "cell_type": "markdown",
   "id": "82cbf166",
   "metadata": {},
   "source": [
    "## GCK"
   ]
  },
  {
   "cell_type": "code",
   "execution_count": 25,
   "id": "abf7aee0",
   "metadata": {},
   "outputs": [],
   "source": [
    "SITE_CSV = '/disk2/Data/FluxSite4ET/validation/GCK_2018_2019_L2.csv'\n",
    "csv_data = numpy.genfromtxt(SITE_CSV, delimiter=',', dtype=str)\n",
    "r_net_data = calculate_r_net(csv_data[:,1][1:].astype(float), \n",
    "                             csv_data[:,2][1:].astype(float), \n",
    "                             csv_data[:,3][1:].astype(float), \n",
    "                             csv_data[:,4][1:].astype(float))\n",
    "r_net_10min = half_hour_to_10min_by_nan(r_net_data)\n",
    "\n",
    "timelist_2year = read_site_10min_timelist('/disk2/Data/FluxSite4ET/CRK_AMATERASS_Rsd.csv')\n",
    "r_net_record = r_net_10min.astype(str)\n",
    "r_net_csv_ = numpy.column_stack((timelist_2year, r_net_record))\n",
    "numpy.savetxt(os.path.join('/disk2/Data/FluxSite4ET/validation', 'GCK_2018_2019_Rnet.csv'), r_net_csv_, delimiter=\",\", fmt='%s')"
   ]
  },
  {
   "cell_type": "markdown",
   "id": "1a3e532a",
   "metadata": {},
   "source": [
    "## GDK"
   ]
  },
  {
   "cell_type": "code",
   "execution_count": 26,
   "id": "d068c459",
   "metadata": {},
   "outputs": [],
   "source": [
    "SITE_CSV = '/disk2/Data/FluxSite4ET/validation/GDK_2018_2019_L2.csv'\n",
    "csv_data = numpy.genfromtxt(SITE_CSV, delimiter=',', dtype=str)\n",
    "r_net_data = calculate_r_net(csv_data[:,1][1:].astype(float), \n",
    "                             csv_data[:,2][1:].astype(float), \n",
    "                             csv_data[:,3][1:].astype(float), \n",
    "                             csv_data[:,4][1:].astype(float))\n",
    "r_net_10min = half_hour_to_10min_by_nan(r_net_data)\n",
    "\n",
    "timelist_2year = read_site_10min_timelist('/disk2/Data/FluxSite4ET/CRK_AMATERASS_Rsd.csv')\n",
    "r_net_record = r_net_10min.astype(str)\n",
    "r_net_csv_ = numpy.column_stack((timelist_2year, r_net_record))\n",
    "numpy.savetxt(os.path.join('/disk2/Data/FluxSite4ET/validation', 'GDK_2018_2019_Rnet.csv'), r_net_csv_, delimiter=\",\", fmt='%s')"
   ]
  },
  {
   "cell_type": "markdown",
   "id": "cfd67032",
   "metadata": {},
   "source": [
    "## TKY"
   ]
  },
  {
   "cell_type": "code",
   "execution_count": 28,
   "id": "25e6668d",
   "metadata": {},
   "outputs": [],
   "source": [
    "SITE_CSV = '/disk2/Data/FluxSite4ET/validation/TKY_2018.csv'\n",
    "csv_data = numpy.genfromtxt(SITE_CSV, delimiter=',', dtype=str)\n",
    "\n",
    "r_net_data = calculate_r_net(csv_data[:,3][1:].astype(float), \n",
    "                             csv_data[:,4][1:].astype(float), \n",
    "                             csv_data[:,5][1:].astype(float), \n",
    "                             csv_data[:,6][1:].astype(float))\n",
    "r_net_10min = half_hour_to_10min_by_nan(r_net_data)\n",
    "nan_10min = numpy.full(len(r_net_10min), numpy.nan)\n",
    "r_net_10min_2y = numpy.concatenate((r_net_10min, nan_10min))\n",
    "\n",
    "timelist_2year = read_site_10min_timelist('/disk2/Data/FluxSite4ET/CRK_AMATERASS_Rsd.csv')\n",
    "r_net_record = r_net_10min_2y.astype(str)\n",
    "r_net_csv_ = numpy.column_stack((timelist_2year, r_net_record))\n",
    "numpy.savetxt(os.path.join('/disk2/Data/FluxSite4ET/validation', 'TKY_2018_2019_Rnet.csv'), r_net_csv_, delimiter=\",\", fmt='%s')"
   ]
  }
 ],
 "metadata": {
  "kernelspec": {
   "display_name": "Python 3",
   "language": "python",
   "name": "python3"
  },
  "language_info": {
   "codemirror_mode": {
    "name": "ipython",
    "version": 3
   },
   "file_extension": ".py",
   "mimetype": "text/x-python",
   "name": "python",
   "nbconvert_exporter": "python",
   "pygments_lexer": "ipython3",
   "version": "3.6.8"
  }
 },
 "nbformat": 4,
 "nbformat_minor": 5
}
