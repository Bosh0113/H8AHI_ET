{
 "cells": [
  {
   "cell_type": "code",
   "execution_count": 1,
   "id": "254c553c",
   "metadata": {},
   "outputs": [],
   "source": [
    "import os\n",
    "import numpy\n",
    "import gzip\n",
    "from datetime import datetime, timedelta"
   ]
  },
  {
   "cell_type": "code",
   "execution_count": 2,
   "id": "89582296",
   "metadata": {},
   "outputs": [],
   "source": [
    "WORKSPACE_FOLDER = os.path.join(os.path.abspath('..'), 'processing_record')\n",
    "if not os.path.exists(WORKSPACE_FOLDER):\n",
    "    os.makedirs(WORKSPACE_FOLDER)\n",
    "AHI_LST_FOLDER = '/data01/people/beichen/data_fd_et/CEReS_AHILST'"
   ]
  },
  {
   "cell_type": "code",
   "execution_count": 3,
   "id": "a9e029a9",
   "metadata": {},
   "outputs": [],
   "source": [
    "START_TIME = '2018-01-01T00:00:00Z' # local time\n",
    "END_TIME = '2019-12-31T23:59:59Z'\n",
    "\n",
    "time_internal = 10  # mins\n",
    "\n",
    "pixel_size = 0.02 # 0.02°\n",
    "# FD 180 extent\n",
    "lst_extent = (85.0, 180.0, -60, 60) # l_lon, r_lon, b_lat, t_lat\n",
    "\n",
    "# UTC_OFFSET = 9 # hour\n",
    "# tky_site_loc = (36.146, 137.423) # lat, lon\n",
    "# crk_site_loc = (38.201, 127.251) # lat, lon\n",
    "# gck_site_loc = (37.748, 127.162) # lat, lon\n",
    "# gdk_site_loc = (37.749, 127.149) # lat, lon\n",
    "# site_names = ['TKY','CRK', 'GCK', 'GDK']\n",
    "# site_locs = [tky_site_loc, crk_site_loc, gck_site_loc, gdk_site_loc]"
   ]
  },
  {
   "cell_type": "code",
   "execution_count": 4,
   "id": "481aa566",
   "metadata": {},
   "outputs": [],
   "source": [
    "site_infos = [# site, lat, lon, UTC+\n",
    "    [\"CLC\", 44.59666667, 123.4702778, 8],\n",
    "    [\"JRC\", 31.80683056, 119.2172639, 8],\n",
    "    [\"PDC\", 26.6, 106.3166667, 8],\n",
    "    [\"PJC\", 40.94138889, 121.9602778, 8],\n",
    "    [\"HZF\", 51.78111111, 121.0177778, 8],\n",
    "    [\"ZAG\", 32.8, 102.55, 8],\n",
    "    [\"DBB\", 41.64397222, 110.3314722, 8],\n",
    "    [\"HBG\", 37.61666667, 101.3166667, 8],\n",
    "    [\"MPM\", 22.4982, 114.0292, 8],\n",
    "    [\"BBY\", 43.323, 141.8107, 9],\n",
    "    [\"TKY\", 36.14616667, 137.4231111, 9],\n",
    "    [\"CRK\", 38.20138889, 127.2505556, 9],\n",
    "    [\"GCK\", 37.74833333, 127.1622222, 9],\n",
    "    [\"GDK\", 37.74888889, 127.1491667, 9],\n",
    "    [\"SIP\", 0.395204167, 102.7645506, 7],\n",
    "    [\"SDP\", 0.699491389, 102.793305, 7],\n",
    "    [\"ASM\", -22.2828, 133.2493, 9],\n",
    "    [\"CPW\", -33.6152, 150.7236, 11],\n",
    "    [\"WAR\", -43.095, 146.6545, 11]\n",
    "]"
   ]
  },
  {
   "cell_type": "code",
   "execution_count": 5,
   "id": "a9446b36",
   "metadata": {},
   "outputs": [],
   "source": [
    "def read_AHILST_data(ahi_lst_gz, site_infos):\n",
    "    if os.path.exists(ahi_lst_gz):\n",
    "        try:\n",
    "            with gzip.open(ahi_lst_gz, 'rb') as file:\n",
    "                gz_data = file.read()\n",
    "                lst_data = numpy.copy(numpy.frombuffer(gz_data, dtype='f4').reshape(6000, 6000)) # 0.02°\n",
    "\n",
    "                site_array = []\n",
    "                for site_info in site_infos:\n",
    "                    site_lat_idx = int((lst_extent[3] - site_info[1])/pixel_size)\n",
    "                    site_lon_idx = int((site_info[2] - lst_extent[0])/pixel_size)\n",
    "                    site_v = lst_data[site_lat_idx][site_lon_idx]\n",
    "                    if site_v == -999:\n",
    "                        site_v = numpy.NaN\n",
    "                    site_array.append(site_v)\n",
    "                return numpy.array(site_array)\n",
    "        except Exception as e:\n",
    "            print(ahi_lst_gz)\n",
    "            print(e)\n",
    "            nan_array = numpy.zeros(len(site_infos),)\n",
    "            nan_array[nan_array==0] = numpy.NaN\n",
    "            return nan_array\n",
    "    else:\n",
    "        nan_array = numpy.zeros(len(site_infos),)\n",
    "        nan_array[nan_array==0] = numpy.NaN\n",
    "        return nan_array"
   ]
  },
  {
   "cell_type": "code",
   "execution_count": 6,
   "id": "6c9755eb",
   "metadata": {},
   "outputs": [],
   "source": [
    "# 1. record full day from 20171231 to 20191231\n",
    "# 2. save site data according to localtime with UTC offset\n",
    "utc_start_date = datetime.strptime(START_TIME, \"%Y-%m-%dT%H:%M:%SZ\") - timedelta(hours=24)\n",
    "utc_end_date = datetime.strptime(END_TIME, \"%Y-%m-%dT%H:%M:%SZ\")\n",
    "\n",
    "site_record = []\n",
    "for site_idx in range(len(site_infos)):\n",
    "    site_record.append([])\n",
    "temp_date = utc_start_date\n",
    "while temp_date < utc_end_date:\n",
    "    current_time_str = temp_date.strftime(\"%Y%m%d%H%M\")\n",
    "    month_folder = temp_date.strftime(\"%Y%m\")\n",
    "    day_folder = temp_date.strftime(\"%Y%m%d\")\n",
    "    file_path = AHI_LST_FOLDER + '/' + month_folder + '/AHILST.v0.' + current_time_str + '.dat.gz'\n",
    "    site_vs = read_AHILST_data(file_path, site_infos)\n",
    "    \n",
    "    for site_idx in range(len(site_infos)):\n",
    "        UTC_OFFSET = site_infos[site_idx][3]\n",
    "        this_day_date = temp_date + timedelta(hours=UTC_OFFSET)\n",
    "        this_day_time = this_day_date.strftime(\"%Y-%m-%dT%H:%M:%SZ\")\n",
    "        site_record[site_idx].append([this_day_time, str(site_vs[site_idx])])\n",
    "    \n",
    "    temp_date = temp_date + timedelta(minutes=time_internal)"
   ]
  },
  {
   "cell_type": "code",
   "execution_count": 7,
   "id": "b915ebe8",
   "metadata": {},
   "outputs": [],
   "source": [
    "for site_idx in range(len(site_infos)):\n",
    "    site_name = site_infos[site_idx][0]\n",
    "    UTC_OFFSET = site_infos[site_idx][3]\n",
    "    site_localrecord = site_record[site_idx][(24*6-UTC_OFFSET*6):-UTC_OFFSET*6]\n",
    "    site_record_item = numpy.array(site_localrecord)\n",
    "    numpy.savetxt(os.path.join(WORKSPACE_FOLDER, site_name+'_AHI_LST'+'.csv'), site_record_item, delimiter=\",\", fmt='%s')"
   ]
  }
 ],
 "metadata": {
  "kernelspec": {
   "display_name": "Python 3",
   "language": "python",
   "name": "python3"
  },
  "language_info": {
   "codemirror_mode": {
    "name": "ipython",
    "version": 3
   },
   "file_extension": ".py",
   "mimetype": "text/x-python",
   "name": "python",
   "nbconvert_exporter": "python",
   "pygments_lexer": "ipython3",
   "version": "3.6.8"
  }
 },
 "nbformat": 4,
 "nbformat_minor": 5
}
