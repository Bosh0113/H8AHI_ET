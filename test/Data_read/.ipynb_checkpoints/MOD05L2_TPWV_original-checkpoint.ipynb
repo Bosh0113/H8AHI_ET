{
 "cells": [
  {
   "cell_type": "markdown",
   "id": "6862be00",
   "metadata": {},
   "source": [
    "## Total Column Precipitable Water Vapor"
   ]
  },
  {
   "cell_type": "code",
   "execution_count": 5,
   "id": "33d74560",
   "metadata": {},
   "outputs": [],
   "source": [
    "from pyhdf.SD import SD, SDC\n",
    "import numpy"
   ]
  },
  {
   "cell_type": "code",
   "execution_count": 2,
   "id": "47a8c57b",
   "metadata": {},
   "outputs": [],
   "source": [
    "mod05_hdf = '/disk2/Data/MOD05_L2/2019/MOD05_L2.A2019001.0100.061.2019009000115.hdf'"
   ]
  },
  {
   "cell_type": "code",
   "execution_count": null,
   "id": "b0eefd41",
   "metadata": {},
   "outputs": [],
   "source": [
    "hdf_file = SD(mod02_filename, SDC.READ)"
   ]
  },
  {
   "cell_type": "code",
   "execution_count": 8,
   "id": "5cf1705d",
   "metadata": {},
   "outputs": [
    {
     "name": "stdout",
     "output_type": "stream",
     "text": [
      "Datasets: \n",
      "0 Latitude\n",
      "1 Longitude\n",
      "2 Scan_Start_Time\n",
      "3 Solar_Zenith\n",
      "4 Solar_Azimuth\n",
      "5 Sensor_Zenith\n",
      "6 Sensor_Azimuth\n",
      "7 Cloud_Mask_QA\n",
      "8 Water_Vapor_Near_Infrared\n",
      "9 Water_Vapor_Correction_Factors\n",
      "10 Water_Vapor_Infrared\n",
      "11 Quality_Assurance_Near_Infrared\n",
      "12 Quality_Assurance_Infrared\n"
     ]
    }
   ],
   "source": [
    "print(\"Datasets: \")\n",
    "datasets_dic = hdf_file.datasets()\n",
    "for idx, sds in enumerate(datasets_dic.keys()):\n",
    "    print(idx, sds)"
   ]
  },
  {
   "cell_type": "code",
   "execution_count": 10,
   "id": "50e66cfe",
   "metadata": {},
   "outputs": [],
   "source": [
    "wv_obj = hdf_file.select('Water_Vapor_Near_Infrared')"
   ]
  },
  {
   "cell_type": "code",
   "execution_count": 11,
   "id": "7a6c8735",
   "metadata": {},
   "outputs": [
    {
     "data": {
      "text/plain": [
       "array([[-9999, -9999, -9999, ..., -9999, -9999, -9999],\n",
       "       [-9999, -9999, -9999, ..., -9999, -9999, -9999],\n",
       "       [-9999, -9999, -9999, ..., -9999, -9999, -9999],\n",
       "       ...,\n",
       "       [  180,   230,   242, ...,    97,    94,    93],\n",
       "       [  218,   230,   235, ...,   117,    95,    97],\n",
       "       [  172,   224,   239, ...,   111,   106,   105]], dtype=int16)"
      ]
     },
     "execution_count": 11,
     "metadata": {},
     "output_type": "execute_result"
    }
   ],
   "source": [
    "wv_obj.get()"
   ]
  }
 ],
 "metadata": {
  "kernelspec": {
   "display_name": "Python 3",
   "language": "python",
   "name": "python3"
  },
  "language_info": {
   "codemirror_mode": {
    "name": "ipython",
    "version": 3
   },
   "file_extension": ".py",
   "mimetype": "text/x-python",
   "name": "python",
   "nbconvert_exporter": "python",
   "pygments_lexer": "ipython3",
   "version": "3.6.8"
  }
 },
 "nbformat": 4,
 "nbformat_minor": 5
}
