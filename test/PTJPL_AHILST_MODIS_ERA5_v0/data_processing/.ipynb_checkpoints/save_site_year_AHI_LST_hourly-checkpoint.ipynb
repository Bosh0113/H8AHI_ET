{
 "cells": [
  {
   "cell_type": "code",
   "execution_count": 1,
   "id": "254c553c",
   "metadata": {},
   "outputs": [],
   "source": [
    "import os\n",
    "import numpy\n",
    "import gzip\n",
    "from datetime import datetime, timedelta"
   ]
  },
  {
   "cell_type": "code",
   "execution_count": 2,
   "id": "89582296",
   "metadata": {},
   "outputs": [],
   "source": [
    "WORKSPACE_FOLDER = os.getcwd()\n",
    "AHI_LST_FOLDER = '/disk2/Data/AHILST_YY'"
   ]
  },
  {
   "cell_type": "code",
   "execution_count": 3,
   "id": "a9e029a9",
   "metadata": {},
   "outputs": [],
   "source": [
    "START_TIME = '2018-01-01T00:00:00Z' # local time\n",
    "END_TIME = '2019-12-31T23:59:59Z'\n",
    "\n",
    "UTC_OFFSET = 9 # hour\n",
    "time_internal = 10*6  # mins\n",
    "\n",
    "pixel_size = 0.02 # 0.02°\n",
    "# AMATERASS extent\n",
    "lst_extent = (120.0, 150.0, 20, 50) # l_lon, r_lon, b_lat, t_lat"
   ]
  },
  {
   "cell_type": "code",
   "execution_count": 4,
   "id": "3bf31b8a",
   "metadata": {},
   "outputs": [],
   "source": [
    "tky_site_loc = (36.146, 137.423) # lat, lon\n",
    "crk_site_loc = (38.201, 127.251) # lat, lon\n",
    "gck_site_loc = (37.748, 127.162) # lat, lon\n",
    "gdk_site_loc = (37.749, 127.149) # lat, lon\n",
    "site_names = ['TKY','CRK', 'GCK', 'GDK']\n",
    "site_locs = [tky_site_loc, crk_site_loc, gck_site_loc, gdk_site_loc]"
   ]
  },
  {
   "cell_type": "code",
   "execution_count": 7,
   "id": "a9446b36",
   "metadata": {},
   "outputs": [],
   "source": [
    "def read_AHILST_data(ahi_lst_gz, site_locs):\n",
    "    if os.path.exists(ahi_lst_gz):\n",
    "        try:\n",
    "            with gzip.open(ahi_lst_gz, 'rb') as file:\n",
    "                gz_data = file.read()\n",
    "                lst_data = numpy.copy(numpy.frombuffer(gz_data, dtype='f4').reshape(1500, 1500)) # 0.02°\n",
    "\n",
    "                site_array = []\n",
    "                for site_loc in site_locs:\n",
    "                    site_lat_idx = int((lst_extent[3] - site_loc[0])/pixel_size)\n",
    "                    site_lon_idx = int((site_loc[1] - lst_extent[0])/pixel_size)\n",
    "                    site_v = lst_data[site_lat_idx][site_lon_idx]\n",
    "                    if site_v == -999:\n",
    "                        site_v = numpy.NaN\n",
    "                    site_array.append(site_v)\n",
    "                return numpy.array(site_array)\n",
    "        except Exception as e:\n",
    "            print(ahi_lst_gz)\n",
    "            print(e)\n",
    "            nan_array = numpy.zeros(4,)\n",
    "            nan_array[nan_array==0] = numpy.NaN\n",
    "            return nan_array\n",
    "    else:\n",
    "        nan_array = numpy.zeros(4,)\n",
    "        nan_array[nan_array==0] = numpy.NaN\n",
    "        return nan_array"
   ]
  },
  {
   "cell_type": "code",
   "execution_count": 8,
   "id": "6c9755eb",
   "metadata": {},
   "outputs": [],
   "source": [
    "utc_start_date = datetime.strptime(START_TIME, \"%Y-%m-%dT%H:%M:%SZ\") - timedelta(hours=UTC_OFFSET)\n",
    "utc_end_date = datetime.strptime(END_TIME, \"%Y-%m-%dT%H:%M:%SZ\") - timedelta(hours=UTC_OFFSET)\n",
    "\n",
    "site_record = []\n",
    "for site_idx in range(len(site_names)):\n",
    "    site_record.append([])\n",
    "temp_date = utc_start_date\n",
    "while temp_date < utc_end_date:\n",
    "    current_time_str = temp_date.strftime(\"%Y%m%d%H%M\")\n",
    "    month_folder = temp_date.strftime(\"%Y%m\")\n",
    "    day_folder = temp_date.strftime(\"%Y%m%d\")\n",
    "    file_path = AHI_LST_FOLDER + '/' + month_folder + '/AHILST.v0.' + current_time_str + '.dat.gz'\n",
    "    site_vs = read_AHILST_data(file_path, site_locs)\n",
    "    \n",
    "    this_day_date = temp_date + timedelta(hours=UTC_OFFSET)\n",
    "    this_day_time = this_day_date.strftime(\"%Y-%m-%dT%H:%M:%SZ\")\n",
    "    for site_idx in range(len(site_names)):\n",
    "        site_record[site_idx].append([this_day_time, str(site_vs[site_idx])])\n",
    "    \n",
    "    temp_date = temp_date + timedelta(minutes=time_internal)"
   ]
  },
  {
   "cell_type": "code",
   "execution_count": 9,
   "id": "b915ebe8",
   "metadata": {},
   "outputs": [],
   "source": [
    "for site_idx in range(len(site_names)):\n",
    "    site_name = site_names[site_idx]\n",
    "    site_record_item = numpy.array(site_record[site_idx])\n",
    "    numpy.savetxt(os.path.join(WORKSPACE_FOLDER, site_name+'_AHI_LST_hourly'+'.csv'), site_record_item, delimiter=\",\", fmt='%s')"
   ]
  }
 ],
 "metadata": {
  "kernelspec": {
   "display_name": "Python 3",
   "language": "python",
   "name": "python3"
  },
  "language_info": {
   "codemirror_mode": {
    "name": "ipython",
    "version": 3
   },
   "file_extension": ".py",
   "mimetype": "text/x-python",
   "name": "python",
   "nbconvert_exporter": "python",
   "pygments_lexer": "ipython3",
   "version": "3.6.8"
  }
 },
 "nbformat": 4,
 "nbformat_minor": 5
}
